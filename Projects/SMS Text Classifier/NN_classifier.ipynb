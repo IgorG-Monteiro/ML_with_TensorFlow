{
 "cells": [
  {
   "cell_type": "code",
   "execution_count": 1,
   "metadata": {},
   "outputs": [
    {
     "name": "stdout",
     "output_type": "stream",
     "text": [
      "Requirement already satisfied: tf-nightly in /home/igorm/ML-algorithms/venv/lib/python3.11/site-packages (2.20.0.dev20250319)\n",
      "Requirement already satisfied: absl-py>=1.0.0 in /home/igorm/ML-algorithms/venv/lib/python3.11/site-packages (from tf-nightly) (2.1.0)\n",
      "Requirement already satisfied: astunparse>=1.6.0 in /home/igorm/ML-algorithms/venv/lib/python3.11/site-packages (from tf-nightly) (1.6.3)\n",
      "Requirement already satisfied: flatbuffers>=24.3.25 in /home/igorm/ML-algorithms/venv/lib/python3.11/site-packages (from tf-nightly) (25.2.10)\n",
      "Requirement already satisfied: gast!=0.5.0,!=0.5.1,!=0.5.2,>=0.2.1 in /home/igorm/ML-algorithms/venv/lib/python3.11/site-packages (from tf-nightly) (0.6.0)\n",
      "Requirement already satisfied: google-pasta>=0.1.1 in /home/igorm/ML-algorithms/venv/lib/python3.11/site-packages (from tf-nightly) (0.2.0)\n",
      "Requirement already satisfied: libclang>=13.0.0 in /home/igorm/ML-algorithms/venv/lib/python3.11/site-packages (from tf-nightly) (18.1.1)\n",
      "Requirement already satisfied: opt-einsum>=2.3.2 in /home/igorm/ML-algorithms/venv/lib/python3.11/site-packages (from tf-nightly) (3.4.0)\n",
      "Requirement already satisfied: packaging in /home/igorm/ML-algorithms/venv/lib/python3.11/site-packages (from tf-nightly) (24.2)\n",
      "Requirement already satisfied: protobuf<6.0.0dev,>=4.21.6 in /home/igorm/ML-algorithms/venv/lib/python3.11/site-packages (from tf-nightly) (5.29.3)\n",
      "Requirement already satisfied: requests<3,>=2.21.0 in /home/igorm/ML-algorithms/venv/lib/python3.11/site-packages (from tf-nightly) (2.32.3)\n",
      "Requirement already satisfied: setuptools in /home/igorm/ML-algorithms/venv/lib/python3.11/site-packages (from tf-nightly) (65.5.0)\n",
      "Requirement already satisfied: six>=1.12.0 in /home/igorm/ML-algorithms/venv/lib/python3.11/site-packages (from tf-nightly) (1.17.0)\n",
      "Requirement already satisfied: termcolor>=1.1.0 in /home/igorm/ML-algorithms/venv/lib/python3.11/site-packages (from tf-nightly) (2.5.0)\n",
      "Requirement already satisfied: typing-extensions>=3.6.6 in /home/igorm/ML-algorithms/venv/lib/python3.11/site-packages (from tf-nightly) (4.12.2)\n",
      "Requirement already satisfied: wrapt>=1.11.0 in /home/igorm/ML-algorithms/venv/lib/python3.11/site-packages (from tf-nightly) (1.17.2)\n",
      "Requirement already satisfied: grpcio<2.0,>=1.24.3 in /home/igorm/ML-algorithms/venv/lib/python3.11/site-packages (from tf-nightly) (1.70.0)\n",
      "Requirement already satisfied: tb-nightly~=2.19.0.a in /home/igorm/ML-algorithms/venv/lib/python3.11/site-packages (from tf-nightly) (2.19.0a20250218)\n",
      "Requirement already satisfied: keras-nightly>=3.6.0.dev in /home/igorm/ML-algorithms/venv/lib/python3.11/site-packages (from tf-nightly) (3.9.0.dev2025031903)\n",
      "Requirement already satisfied: numpy<2.2.0,>=1.26.0 in /home/igorm/ML-algorithms/venv/lib/python3.11/site-packages (from tf-nightly) (2.0.2)\n",
      "Requirement already satisfied: h5py>=3.11.0 in /home/igorm/ML-algorithms/venv/lib/python3.11/site-packages (from tf-nightly) (3.13.0)\n",
      "Requirement already satisfied: ml-dtypes<1.0.0,>=0.5.1 in /home/igorm/ML-algorithms/venv/lib/python3.11/site-packages (from tf-nightly) (0.5.1)\n",
      "Requirement already satisfied: wheel<1.0,>=0.23.0 in /home/igorm/ML-algorithms/venv/lib/python3.11/site-packages (from astunparse>=1.6.0->tf-nightly) (0.45.1)\n",
      "Requirement already satisfied: rich in /home/igorm/ML-algorithms/venv/lib/python3.11/site-packages (from keras-nightly>=3.6.0.dev->tf-nightly) (13.9.4)\n",
      "Requirement already satisfied: namex in /home/igorm/ML-algorithms/venv/lib/python3.11/site-packages (from keras-nightly>=3.6.0.dev->tf-nightly) (0.0.8)\n",
      "Requirement already satisfied: optree in /home/igorm/ML-algorithms/venv/lib/python3.11/site-packages (from keras-nightly>=3.6.0.dev->tf-nightly) (0.14.1)\n",
      "Requirement already satisfied: charset-normalizer<4,>=2 in /home/igorm/ML-algorithms/venv/lib/python3.11/site-packages (from requests<3,>=2.21.0->tf-nightly) (3.4.1)\n",
      "Requirement already satisfied: idna<4,>=2.5 in /home/igorm/ML-algorithms/venv/lib/python3.11/site-packages (from requests<3,>=2.21.0->tf-nightly) (3.10)\n",
      "Requirement already satisfied: urllib3<3,>=1.21.1 in /home/igorm/ML-algorithms/venv/lib/python3.11/site-packages (from requests<3,>=2.21.0->tf-nightly) (2.3.0)\n",
      "Requirement already satisfied: certifi>=2017.4.17 in /home/igorm/ML-algorithms/venv/lib/python3.11/site-packages (from requests<3,>=2.21.0->tf-nightly) (2025.1.31)\n",
      "Requirement already satisfied: markdown>=2.6.8 in /home/igorm/ML-algorithms/venv/lib/python3.11/site-packages (from tb-nightly~=2.19.0.a->tf-nightly) (3.7)\n",
      "Requirement already satisfied: tensorboard-data-server<0.8.0,>=0.7.0 in /home/igorm/ML-algorithms/venv/lib/python3.11/site-packages (from tb-nightly~=2.19.0.a->tf-nightly) (0.7.2)\n",
      "Requirement already satisfied: werkzeug>=1.0.1 in /home/igorm/ML-algorithms/venv/lib/python3.11/site-packages (from tb-nightly~=2.19.0.a->tf-nightly) (3.1.3)\n",
      "Requirement already satisfied: MarkupSafe>=2.1.1 in /home/igorm/ML-algorithms/venv/lib/python3.11/site-packages (from werkzeug>=1.0.1->tb-nightly~=2.19.0.a->tf-nightly) (3.0.2)\n",
      "Requirement already satisfied: markdown-it-py>=2.2.0 in /home/igorm/ML-algorithms/venv/lib/python3.11/site-packages (from rich->keras-nightly>=3.6.0.dev->tf-nightly) (3.0.0)\n",
      "Requirement already satisfied: pygments<3.0.0,>=2.13.0 in /home/igorm/ML-algorithms/venv/lib/python3.11/site-packages (from rich->keras-nightly>=3.6.0.dev->tf-nightly) (2.19.1)\n",
      "Requirement already satisfied: mdurl~=0.1 in /home/igorm/ML-algorithms/venv/lib/python3.11/site-packages (from markdown-it-py>=2.2.0->rich->keras-nightly>=3.6.0.dev->tf-nightly) (0.1.2)\n",
      "\n",
      "\u001b[1m[\u001b[0m\u001b[34;49mnotice\u001b[0m\u001b[1;39;49m]\u001b[0m\u001b[39;49m A new release of pip is available: \u001b[0m\u001b[31;49m24.0\u001b[0m\u001b[39;49m -> \u001b[0m\u001b[32;49m25.0.1\u001b[0m\n",
      "\u001b[1m[\u001b[0m\u001b[34;49mnotice\u001b[0m\u001b[1;39;49m]\u001b[0m\u001b[39;49m To update, run: \u001b[0m\u001b[32;49mpip install --upgrade pip\u001b[0m\n"
     ]
    },
    {
     "name": "stderr",
     "output_type": "stream",
     "text": [
      "2025-03-19 20:11:06.049077: I tensorflow/core/util/port.cc:153] oneDNN custom operations are on. You may see slightly different numerical results due to floating-point round-off errors from different computation orders. To turn them off, set the environment variable `TF_ENABLE_ONEDNN_OPTS=0`.\n",
      "2025-03-19 20:11:06.738108: I tensorflow/core/platform/cpu_feature_guard.cc:210] This TensorFlow binary is optimized to use available CPU instructions in performance-critical operations.\n",
      "To enable the following instructions: AVX2 AVX_VNNI FMA, in other operations, rebuild TensorFlow with the appropriate compiler flags.\n",
      "2025-03-19 20:11:11.303517: I tensorflow/core/util/port.cc:153] oneDNN custom operations are on. You may see slightly different numerical results due to floating-point round-off errors from different computation orders. To turn them off, set the environment variable `TF_ENABLE_ONEDNN_OPTS=0`.\n"
     ]
    },
    {
     "name": "stdout",
     "output_type": "stream",
     "text": [
      "Requirement already satisfied: tensorflow-datasets in /home/igorm/ML-algorithms/venv/lib/python3.11/site-packages (4.9.8)\n",
      "Requirement already satisfied: absl-py in /home/igorm/ML-algorithms/venv/lib/python3.11/site-packages (from tensorflow-datasets) (2.1.0)\n",
      "Requirement already satisfied: array_record>=0.5.0 in /home/igorm/ML-algorithms/venv/lib/python3.11/site-packages (from tensorflow-datasets) (0.7.1)\n",
      "Requirement already satisfied: dm-tree in /home/igorm/ML-algorithms/venv/lib/python3.11/site-packages (from tensorflow-datasets) (0.1.9)\n",
      "Requirement already satisfied: etils>=1.9.1 in /home/igorm/ML-algorithms/venv/lib/python3.11/site-packages (from etils[edc,enp,epath,epy,etree]>=1.9.1; python_version >= \"3.11\"->tensorflow-datasets) (1.12.2)\n",
      "Requirement already satisfied: immutabledict in /home/igorm/ML-algorithms/venv/lib/python3.11/site-packages (from tensorflow-datasets) (4.2.1)\n",
      "Requirement already satisfied: numpy in /home/igorm/ML-algorithms/venv/lib/python3.11/site-packages (from tensorflow-datasets) (2.0.2)\n",
      "Requirement already satisfied: promise in /home/igorm/ML-algorithms/venv/lib/python3.11/site-packages (from tensorflow-datasets) (2.3)\n",
      "Requirement already satisfied: protobuf>=3.20 in /home/igorm/ML-algorithms/venv/lib/python3.11/site-packages (from tensorflow-datasets) (5.29.3)\n",
      "Requirement already satisfied: psutil in /home/igorm/ML-algorithms/venv/lib/python3.11/site-packages (from tensorflow-datasets) (7.0.0)\n",
      "Requirement already satisfied: pyarrow in /home/igorm/ML-algorithms/venv/lib/python3.11/site-packages (from tensorflow-datasets) (19.0.1)\n",
      "Requirement already satisfied: requests>=2.19.0 in /home/igorm/ML-algorithms/venv/lib/python3.11/site-packages (from tensorflow-datasets) (2.32.3)\n",
      "Requirement already satisfied: simple_parsing in /home/igorm/ML-algorithms/venv/lib/python3.11/site-packages (from tensorflow-datasets) (0.1.7)\n",
      "Requirement already satisfied: tensorflow-metadata in /home/igorm/ML-algorithms/venv/lib/python3.11/site-packages (from tensorflow-datasets) (1.16.1)\n",
      "Requirement already satisfied: termcolor in /home/igorm/ML-algorithms/venv/lib/python3.11/site-packages (from tensorflow-datasets) (2.5.0)\n",
      "Requirement already satisfied: toml in /home/igorm/ML-algorithms/venv/lib/python3.11/site-packages (from tensorflow-datasets) (0.10.2)\n",
      "Requirement already satisfied: tqdm in /home/igorm/ML-algorithms/venv/lib/python3.11/site-packages (from tensorflow-datasets) (4.67.1)\n",
      "Requirement already satisfied: wrapt in /home/igorm/ML-algorithms/venv/lib/python3.11/site-packages (from tensorflow-datasets) (1.17.2)\n",
      "Requirement already satisfied: einops in /home/igorm/ML-algorithms/venv/lib/python3.11/site-packages (from etils[edc,enp,epath,epy,etree]>=1.9.1; python_version >= \"3.11\"->tensorflow-datasets) (0.8.1)\n",
      "Requirement already satisfied: fsspec in /home/igorm/ML-algorithms/venv/lib/python3.11/site-packages (from etils[edc,enp,epath,epy,etree]>=1.9.1; python_version >= \"3.11\"->tensorflow-datasets) (2025.3.0)\n",
      "Requirement already satisfied: importlib_resources in /home/igorm/ML-algorithms/venv/lib/python3.11/site-packages (from etils[edc,enp,epath,epy,etree]>=1.9.1; python_version >= \"3.11\"->tensorflow-datasets) (6.5.2)\n",
      "Requirement already satisfied: typing_extensions in /home/igorm/ML-algorithms/venv/lib/python3.11/site-packages (from etils[edc,enp,epath,epy,etree]>=1.9.1; python_version >= \"3.11\"->tensorflow-datasets) (4.12.2)\n",
      "Requirement already satisfied: zipp in /home/igorm/ML-algorithms/venv/lib/python3.11/site-packages (from etils[edc,enp,epath,epy,etree]>=1.9.1; python_version >= \"3.11\"->tensorflow-datasets) (3.21.0)\n",
      "Requirement already satisfied: charset-normalizer<4,>=2 in /home/igorm/ML-algorithms/venv/lib/python3.11/site-packages (from requests>=2.19.0->tensorflow-datasets) (3.4.1)\n",
      "Requirement already satisfied: idna<4,>=2.5 in /home/igorm/ML-algorithms/venv/lib/python3.11/site-packages (from requests>=2.19.0->tensorflow-datasets) (3.10)\n",
      "Requirement already satisfied: urllib3<3,>=1.21.1 in /home/igorm/ML-algorithms/venv/lib/python3.11/site-packages (from requests>=2.19.0->tensorflow-datasets) (2.3.0)\n",
      "Requirement already satisfied: certifi>=2017.4.17 in /home/igorm/ML-algorithms/venv/lib/python3.11/site-packages (from requests>=2.19.0->tensorflow-datasets) (2025.1.31)\n",
      "Requirement already satisfied: attrs>=18.2.0 in /home/igorm/ML-algorithms/venv/lib/python3.11/site-packages (from dm-tree->tensorflow-datasets) (25.1.0)\n",
      "Requirement already satisfied: six in /home/igorm/ML-algorithms/venv/lib/python3.11/site-packages (from promise->tensorflow-datasets) (1.17.0)\n",
      "Requirement already satisfied: docstring-parser<1.0,>=0.15 in /home/igorm/ML-algorithms/venv/lib/python3.11/site-packages (from simple_parsing->tensorflow-datasets) (0.16)\n",
      "Requirement already satisfied: googleapis-common-protos<2,>=1.56.4 in /home/igorm/ML-algorithms/venv/lib/python3.11/site-packages (from tensorflow-metadata->tensorflow-datasets) (1.69.2)\n",
      "\n",
      "\u001b[1m[\u001b[0m\u001b[34;49mnotice\u001b[0m\u001b[1;39;49m]\u001b[0m\u001b[39;49m A new release of pip is available: \u001b[0m\u001b[31;49m24.0\u001b[0m\u001b[39;49m -> \u001b[0m\u001b[32;49m25.0.1\u001b[0m\n",
      "\u001b[1m[\u001b[0m\u001b[34;49mnotice\u001b[0m\u001b[1;39;49m]\u001b[0m\u001b[39;49m To update, run: \u001b[0m\u001b[32;49mpip install --upgrade pip\u001b[0m\n",
      "2.20.0-dev20250319\n"
     ]
    }
   ],
   "source": [
    "# import libraries\n",
    "try:\n",
    "  # %tensorflow_version only exists in Colab.\n",
    "  !pip install tf-nightly\n",
    "except Exception:\n",
    "  pass\n",
    "import tensorflow as tf\n",
    "import pandas as pd\n",
    "from tensorflow import keras\n",
    "!pip install tensorflow-datasets\n",
    "import tensorflow_datasets as tfds\n",
    "import numpy as np\n",
    "import matplotlib.pyplot as plt\n",
    "\n",
    "print(tf.__version__)"
   ]
  },
  {
   "cell_type": "code",
   "execution_count": 2,
   "metadata": {},
   "outputs": [
    {
     "name": "stdout",
     "output_type": "stream",
     "text": [
      "--2025-03-19 20:11:32--  https://cdn.freecodecamp.org/project-data/sms/train-data.tsv\n",
      "Resolving cdn.freecodecamp.org (cdn.freecodecamp.org)... 172.67.70.149, 104.26.2.33, 104.26.3.33, ...\n",
      "Connecting to cdn.freecodecamp.org (cdn.freecodecamp.org)|172.67.70.149|:443... connected.\n",
      "HTTP request sent, awaiting response... 200 OK\n",
      "Length: 358233 (350K) [text/tab-separated-values]\n",
      "Saving to: ‘train-data.tsv’\n",
      "\n",
      "train-data.tsv      100%[===================>] 349.84K  --.-KB/s    in 0.1s    \n",
      "\n",
      "2025-03-19 20:11:32 (3.27 MB/s) - ‘train-data.tsv’ saved [358233/358233]\n",
      "\n",
      "--2025-03-19 20:11:32--  https://cdn.freecodecamp.org/project-data/sms/valid-data.tsv\n",
      "Resolving cdn.freecodecamp.org (cdn.freecodecamp.org)... 104.26.3.33, 172.67.70.149, 104.26.2.33, ...\n",
      "Connecting to cdn.freecodecamp.org (cdn.freecodecamp.org)|104.26.3.33|:443... connected.\n",
      "HTTP request sent, awaiting response... 200 OK\n",
      "Length: 118774 (116K) [text/tab-separated-values]\n",
      "Saving to: ‘valid-data.tsv’\n",
      "\n",
      "valid-data.tsv      100%[===================>] 115.99K  --.-KB/s    in 0.05s   \n",
      "\n",
      "2025-03-19 20:11:34 (2.31 MB/s) - ‘valid-data.tsv’ saved [118774/118774]\n",
      "\n"
     ]
    }
   ],
   "source": [
    "# get data files\n",
    "!wget https://cdn.freecodecamp.org/project-data/sms/train-data.tsv\n",
    "!wget https://cdn.freecodecamp.org/project-data/sms/valid-data.tsv\n",
    "\n",
    "train_file_path = \"train-data.tsv\"\n",
    "test_file_path = \"valid-data.tsv\""
   ]
  },
  {
   "cell_type": "code",
   "execution_count": 3,
   "metadata": {},
   "outputs": [
    {
     "name": "stdout",
     "output_type": "stream",
     "text": [
      "     class                                               text\n",
      "0      ham  ahhhh...just woken up!had a bad dream about u ...\n",
      "1      ham                           you can never do nothing\n",
      "2      ham  now u sound like manky scouse boy steve,like! ...\n",
      "3      ham  mum say we wan to go then go... then she can s...\n",
      "4      ham  never y lei... i v lazy... got wat? dat day ü ...\n",
      "...    ...                                                ...\n",
      "4174   ham  just woke up. yeesh its late. but i didn't fal...\n",
      "4175   ham  what do u reckon as need 2 arrange transport i...\n",
      "4176  spam  free entry into our £250 weekly competition ju...\n",
      "4177  spam  -pls stop bootydelious (32/f) is inviting you ...\n",
      "4178   ham  tell my  bad character which u dnt lik in me. ...\n",
      "\n",
      "[4179 rows x 2 columns]\n",
      "     class                                               text\n",
      "0      ham  i am in hospital da. . i will return home in e...\n",
      "1      ham         not much, just some textin'. how bout you?\n",
      "2      ham  i probably won't eat at all today. i think i'm...\n",
      "3      ham  don‘t give a flying monkeys wot they think and...\n",
      "4      ham                                who are you seeing?\n",
      "...    ...                                                ...\n",
      "1387   ham  true dear..i sat to pray evening and felt so.s...\n",
      "1388   ham               what will we do in the shower, baby?\n",
      "1389   ham  where are you ? what are you doing ? are yuou ...\n",
      "1390  spam  ur cash-balance is currently 500 pounds - to m...\n",
      "1391  spam  not heard from u4 a while. call 4 rude chat pr...\n",
      "\n",
      "[1392 rows x 2 columns]\n"
     ]
    }
   ],
   "source": [
    "train_df = pd.read_csv(train_file_path, sep='\\t', names=[\"class\", \"text\"])\n",
    "\n",
    "test_df = pd.read_csv(test_file_path, sep='\\t', names=[\"class\", \"text\"])\n",
    "\n",
    "print(train_df)\n",
    "print(test_df)"
   ]
  },
  {
   "cell_type": "code",
   "execution_count": 4,
   "metadata": {},
   "outputs": [
    {
     "name": "stdout",
     "output_type": "stream",
     "text": [
      "      class                                               text\n",
      "0         0  ahhhh...just woken up!had a bad dream about u ...\n",
      "1         0                           you can never do nothing\n",
      "2         0  now u sound like manky scouse boy steve,like! ...\n",
      "3         0  mum say we wan to go then go... then she can s...\n",
      "4         0  never y lei... i v lazy... got wat? dat day ü ...\n",
      "...     ...                                                ...\n",
      "4174      0  just woke up. yeesh its late. but i didn't fal...\n",
      "4175      0  what do u reckon as need 2 arrange transport i...\n",
      "4176      1  free entry into our £250 weekly competition ju...\n",
      "4177      1  -pls stop bootydelious (32/f) is inviting you ...\n",
      "4178      0  tell my  bad character which u dnt lik in me. ...\n",
      "\n",
      "[4179 rows x 2 columns]\n",
      "      class                                               text\n",
      "0         0  i am in hospital da. . i will return home in e...\n",
      "1         0         not much, just some textin'. how bout you?\n",
      "2         0  i probably won't eat at all today. i think i'm...\n",
      "3         0  don‘t give a flying monkeys wot they think and...\n",
      "4         0                                who are you seeing?\n",
      "...     ...                                                ...\n",
      "1387      0  true dear..i sat to pray evening and felt so.s...\n",
      "1388      0               what will we do in the shower, baby?\n",
      "1389      0  where are you ? what are you doing ? are yuou ...\n",
      "1390      1  ur cash-balance is currently 500 pounds - to m...\n",
      "1391      1  not heard from u4 a while. call 4 rude chat pr...\n",
      "\n",
      "[1392 rows x 2 columns]\n"
     ]
    }
   ],
   "source": [
    "train_df[\"class\"] = pd.factorize(train_df[\"class\"])[0]\n",
    "test_df[\"class\"] = pd.factorize(test_df[\"class\"])[0]\n",
    "\n",
    "print(train_df)\n",
    "print(test_df)"
   ]
  },
  {
   "cell_type": "code",
   "execution_count": 5,
   "metadata": {},
   "outputs": [
    {
     "name": "stderr",
     "output_type": "stream",
     "text": [
      "WARNING: All log messages before absl::InitializeLog() is called are written to STDERR\n",
      "I0000 00:00:1742425902.961077    6943 gpu_device.cc:2018] Created device /job:localhost/replica:0/task:0/device:GPU:0 with 3542 MB memory:  -> device: 0, name: NVIDIA GeForce RTX 4050 Laptop GPU, pci bus id: 0000:01:00.0, compute capability: 8.9\n"
     ]
    }
   ],
   "source": [
    "train_ds = tf.data.Dataset.from_tensor_slices(\n",
    "    (train_df[\"text\"].values, train_df[\"class\"].values)\n",
    ")\n",
    "test_ds = tf.data.Dataset.from_tensor_slices(\n",
    "    (test_df[\"text\"].values, test_df[\"class\"].values)\n",
    ")"
   ]
  },
  {
   "cell_type": "code",
   "execution_count": 6,
   "metadata": {},
   "outputs": [],
   "source": [
    "BUFFER_SIZE = 100\n",
    "BATCH_SIZE = 32\n",
    "\n",
    "train_ds = train_ds.shuffle(BUFFER_SIZE).batch(BATCH_SIZE).prefetch(tf.data.AUTOTUNE)\n",
    "test_ds = test_ds.batch(BATCH_SIZE).prefetch(tf.data.AUTOTUNE)"
   ]
  },
  {
   "cell_type": "code",
   "execution_count": 7,
   "metadata": {},
   "outputs": [
    {
     "name": "stdout",
     "output_type": "stream",
     "text": [
      "Maximum vocabulary size: 13484\n"
     ]
    }
   ],
   "source": [
    "df = pd.concat([train_df, test_df], ignore_index=True)\n",
    "\n",
    "vocab = set(word for text in df['text'].dropna() for word in text.split())\n",
    "\n",
    "# Vocabulary size\n",
    "max_vocab_size = len(vocab)\n",
    "\n",
    "print(\"Maximum vocabulary size:\", max_vocab_size)"
   ]
  },
  {
   "cell_type": "code",
   "execution_count": 8,
   "metadata": {},
   "outputs": [
    {
     "name": "stderr",
     "output_type": "stream",
     "text": [
      "2025-03-19 20:11:50.662114: I tensorflow/core/framework/local_rendezvous.cc:407] Local rendezvous is aborting with status: OUT_OF_RANGE: End of sequence\n"
     ]
    }
   ],
   "source": [
    "MAXLEN = 1000\n",
    "\n",
    "vec = keras.layers.TextVectorization(\n",
    "    output_mode='int',\n",
    "    max_tokens=max_vocab_size,\n",
    "    output_sequence_length=MAXLEN,\n",
    ")\n",
    "\n",
    "vec.adapt(train_ds.map(lambda text, label: text))"
   ]
  },
  {
   "cell_type": "code",
   "execution_count": 26,
   "metadata": {},
   "outputs": [
    {
     "data": {
      "text/html": [
       "<pre style=\"white-space:pre;overflow-x:auto;line-height:normal;font-family:Menlo,'DejaVu Sans Mono',consolas,'Courier New',monospace\"><span style=\"font-weight: bold\">Model: \"sequential_2\"</span>\n",
       "</pre>\n"
      ],
      "text/plain": [
       "\u001b[1mModel: \"sequential_2\"\u001b[0m\n"
      ]
     },
     "metadata": {},
     "output_type": "display_data"
    },
    {
     "data": {
      "text/html": [
       "<pre style=\"white-space:pre;overflow-x:auto;line-height:normal;font-family:Menlo,'DejaVu Sans Mono',consolas,'Courier New',monospace\">┏━━━━━━━━━━━━━━━━━━━━━━━━━━━━━━━━━┳━━━━━━━━━━━━━━━━━━━━━━━━┳━━━━━━━━━━━━━━━┓\n",
       "┃<span style=\"font-weight: bold\"> Layer (type)                    </span>┃<span style=\"font-weight: bold\"> Output Shape           </span>┃<span style=\"font-weight: bold\">       Param # </span>┃\n",
       "┡━━━━━━━━━━━━━━━━━━━━━━━━━━━━━━━━━╇━━━━━━━━━━━━━━━━━━━━━━━━╇━━━━━━━━━━━━━━━┩\n",
       "│ text_vectorization              │ (<span style=\"color: #00d7ff; text-decoration-color: #00d7ff\">None</span>, <span style=\"color: #00af00; text-decoration-color: #00af00\">1000</span>)           │             <span style=\"color: #00af00; text-decoration-color: #00af00\">0</span> │\n",
       "│ (<span style=\"color: #0087ff; text-decoration-color: #0087ff\">TextVectorization</span>)             │                        │               │\n",
       "├─────────────────────────────────┼────────────────────────┼───────────────┤\n",
       "│ embedding_2 (<span style=\"color: #0087ff; text-decoration-color: #0087ff\">Embedding</span>)         │ ?                      │   <span style=\"color: #00af00; text-decoration-color: #00af00\">0</span> (unbuilt) │\n",
       "├─────────────────────────────────┼────────────────────────┼───────────────┤\n",
       "│ bidirectional_4 (<span style=\"color: #0087ff; text-decoration-color: #0087ff\">Bidirectional</span>) │ ?                      │   <span style=\"color: #00af00; text-decoration-color: #00af00\">0</span> (unbuilt) │\n",
       "├─────────────────────────────────┼────────────────────────┼───────────────┤\n",
       "│ bidirectional_5 (<span style=\"color: #0087ff; text-decoration-color: #0087ff\">Bidirectional</span>) │ ?                      │   <span style=\"color: #00af00; text-decoration-color: #00af00\">0</span> (unbuilt) │\n",
       "├─────────────────────────────────┼────────────────────────┼───────────────┤\n",
       "│ dense_4 (<span style=\"color: #0087ff; text-decoration-color: #0087ff\">Dense</span>)                 │ ?                      │   <span style=\"color: #00af00; text-decoration-color: #00af00\">0</span> (unbuilt) │\n",
       "├─────────────────────────────────┼────────────────────────┼───────────────┤\n",
       "│ dropout_2 (<span style=\"color: #0087ff; text-decoration-color: #0087ff\">Dropout</span>)             │ ?                      │             <span style=\"color: #00af00; text-decoration-color: #00af00\">0</span> │\n",
       "├─────────────────────────────────┼────────────────────────┼───────────────┤\n",
       "│ dense_5 (<span style=\"color: #0087ff; text-decoration-color: #0087ff\">Dense</span>)                 │ ?                      │   <span style=\"color: #00af00; text-decoration-color: #00af00\">0</span> (unbuilt) │\n",
       "└─────────────────────────────────┴────────────────────────┴───────────────┘\n",
       "</pre>\n"
      ],
      "text/plain": [
       "┏━━━━━━━━━━━━━━━━━━━━━━━━━━━━━━━━━┳━━━━━━━━━━━━━━━━━━━━━━━━┳━━━━━━━━━━━━━━━┓\n",
       "┃\u001b[1m \u001b[0m\u001b[1mLayer (type)                   \u001b[0m\u001b[1m \u001b[0m┃\u001b[1m \u001b[0m\u001b[1mOutput Shape          \u001b[0m\u001b[1m \u001b[0m┃\u001b[1m \u001b[0m\u001b[1m      Param #\u001b[0m\u001b[1m \u001b[0m┃\n",
       "┡━━━━━━━━━━━━━━━━━━━━━━━━━━━━━━━━━╇━━━━━━━━━━━━━━━━━━━━━━━━╇━━━━━━━━━━━━━━━┩\n",
       "│ text_vectorization              │ (\u001b[38;5;45mNone\u001b[0m, \u001b[38;5;34m1000\u001b[0m)           │             \u001b[38;5;34m0\u001b[0m │\n",
       "│ (\u001b[38;5;33mTextVectorization\u001b[0m)             │                        │               │\n",
       "├─────────────────────────────────┼────────────────────────┼───────────────┤\n",
       "│ embedding_2 (\u001b[38;5;33mEmbedding\u001b[0m)         │ ?                      │   \u001b[38;5;34m0\u001b[0m (unbuilt) │\n",
       "├─────────────────────────────────┼────────────────────────┼───────────────┤\n",
       "│ bidirectional_4 (\u001b[38;5;33mBidirectional\u001b[0m) │ ?                      │   \u001b[38;5;34m0\u001b[0m (unbuilt) │\n",
       "├─────────────────────────────────┼────────────────────────┼───────────────┤\n",
       "│ bidirectional_5 (\u001b[38;5;33mBidirectional\u001b[0m) │ ?                      │   \u001b[38;5;34m0\u001b[0m (unbuilt) │\n",
       "├─────────────────────────────────┼────────────────────────┼───────────────┤\n",
       "│ dense_4 (\u001b[38;5;33mDense\u001b[0m)                 │ ?                      │   \u001b[38;5;34m0\u001b[0m (unbuilt) │\n",
       "├─────────────────────────────────┼────────────────────────┼───────────────┤\n",
       "│ dropout_2 (\u001b[38;5;33mDropout\u001b[0m)             │ ?                      │             \u001b[38;5;34m0\u001b[0m │\n",
       "├─────────────────────────────────┼────────────────────────┼───────────────┤\n",
       "│ dense_5 (\u001b[38;5;33mDense\u001b[0m)                 │ ?                      │   \u001b[38;5;34m0\u001b[0m (unbuilt) │\n",
       "└─────────────────────────────────┴────────────────────────┴───────────────┘\n"
      ]
     },
     "metadata": {},
     "output_type": "display_data"
    },
    {
     "data": {
      "text/html": [
       "<pre style=\"white-space:pre;overflow-x:auto;line-height:normal;font-family:Menlo,'DejaVu Sans Mono',consolas,'Courier New',monospace\"><span style=\"font-weight: bold\"> Total params: </span><span style=\"color: #00af00; text-decoration-color: #00af00\">0</span> (0.00 B)\n",
       "</pre>\n"
      ],
      "text/plain": [
       "\u001b[1m Total params: \u001b[0m\u001b[38;5;34m0\u001b[0m (0.00 B)\n"
      ]
     },
     "metadata": {},
     "output_type": "display_data"
    },
    {
     "data": {
      "text/html": [
       "<pre style=\"white-space:pre;overflow-x:auto;line-height:normal;font-family:Menlo,'DejaVu Sans Mono',consolas,'Courier New',monospace\"><span style=\"font-weight: bold\"> Trainable params: </span><span style=\"color: #00af00; text-decoration-color: #00af00\">0</span> (0.00 B)\n",
       "</pre>\n"
      ],
      "text/plain": [
       "\u001b[1m Trainable params: \u001b[0m\u001b[38;5;34m0\u001b[0m (0.00 B)\n"
      ]
     },
     "metadata": {},
     "output_type": "display_data"
    },
    {
     "data": {
      "text/html": [
       "<pre style=\"white-space:pre;overflow-x:auto;line-height:normal;font-family:Menlo,'DejaVu Sans Mono',consolas,'Courier New',monospace\"><span style=\"font-weight: bold\"> Non-trainable params: </span><span style=\"color: #00af00; text-decoration-color: #00af00\">0</span> (0.00 B)\n",
       "</pre>\n"
      ],
      "text/plain": [
       "\u001b[1m Non-trainable params: \u001b[0m\u001b[38;5;34m0\u001b[0m (0.00 B)\n"
      ]
     },
     "metadata": {},
     "output_type": "display_data"
    }
   ],
   "source": [
    "model = tf.keras.Sequential([\n",
    "    vec,\n",
    "    keras.layers.Embedding(max_vocab_size, 64),\n",
    "    keras.layers.Bidirectional(tf.keras.layers.LSTM(64,  return_sequences=True)),\n",
    "    keras.layers.Bidirectional(tf.keras.layers.LSTM(32)),\n",
    "    keras.layers.Dense(64, activation='relu'),\n",
    "    keras.layers.Dropout(0.3),\n",
    "    keras.layers.Dense(1)\n",
    "])\n",
    "\n",
    "model.compile(\n",
    "    optimizer=tf.keras.optimizers.Adam(1e-4),\n",
    "    loss='binary_crossentropy',\n",
    "    metrics=['acc']\n",
    ")\n",
    "\n",
    "model.summary()"
   ]
  },
  {
   "cell_type": "code",
   "execution_count": 27,
   "metadata": {},
   "outputs": [
    {
     "name": "stdout",
     "output_type": "stream",
     "text": [
      "Epoch 1/5\n",
      "\u001b[1m131/131\u001b[0m \u001b[32m━━━━━━━━━━━━━━━━━━━━\u001b[0m\u001b[37m\u001b[0m \u001b[1m68s\u001b[0m 471ms/step - acc: 0.8707 - loss: 0.5107 - val_acc: 0.8604 - val_loss: 0.3301\n",
      "Epoch 2/5\n",
      "\u001b[1m131/131\u001b[0m \u001b[32m━━━━━━━━━━━━━━━━━━━━\u001b[0m\u001b[37m\u001b[0m \u001b[1m56s\u001b[0m 424ms/step - acc: 0.8769 - loss: 0.2612 - val_acc: 0.9406 - val_loss: 0.2085\n",
      "Epoch 3/5\n",
      "\u001b[1m131/131\u001b[0m \u001b[32m━━━━━━━━━━━━━━━━━━━━\u001b[0m\u001b[37m\u001b[0m \u001b[1m56s\u001b[0m 428ms/step - acc: 0.9634 - loss: 0.1312 - val_acc: 0.9740 - val_loss: 0.1715\n",
      "Epoch 4/5\n",
      "\u001b[1m131/131\u001b[0m \u001b[32m━━━━━━━━━━━━━━━━━━━━\u001b[0m\u001b[37m\u001b[0m \u001b[1m57s\u001b[0m 432ms/step - acc: 0.9850 - loss: 0.0758 - val_acc: 0.9802 - val_loss: 0.1881\n",
      "Epoch 5/5\n",
      "\u001b[1m131/131\u001b[0m \u001b[32m━━━━━━━━━━━━━━━━━━━━\u001b[0m\u001b[37m\u001b[0m \u001b[1m56s\u001b[0m 425ms/step - acc: 0.9927 - loss: 0.0479 - val_acc: 0.9802 - val_loss: 0.1857\n"
     ]
    }
   ],
   "source": [
    "history = model.fit(\n",
    "    train_ds,\n",
    "    validation_data=test_ds,\n",
    "    validation_steps=30,\n",
    "    epochs=5,\n",
    ")"
   ]
  },
  {
   "cell_type": "code",
   "execution_count": 28,
   "metadata": {},
   "outputs": [
    {
     "name": "stdout",
     "output_type": "stream",
     "text": [
      "\u001b[1m44/44\u001b[0m \u001b[32m━━━━━━━━━━━━━━━━━━━━\u001b[0m\u001b[37m\u001b[0m \u001b[1m10s\u001b[0m 232ms/step - acc: 0.9819 - loss: 0.1569\n",
      "Test Loss: 0.17112551629543304\n",
      "Test Accuracy: 0.9798850417137146\n"
     ]
    }
   ],
   "source": [
    "test_loss, test_acc = model.evaluate(test_ds)\n",
    "print('Test Loss:', test_loss)\n",
    "print('Test Accuracy:', test_acc)"
   ]
  },
  {
   "cell_type": "code",
   "execution_count": 29,
   "metadata": {},
   "outputs": [
    {
     "name": "stdout",
     "output_type": "stream",
     "text": [
      "\u001b[1m1/1\u001b[0m \u001b[32m━━━━━━━━━━━━━━━━━━━━\u001b[0m\u001b[37m\u001b[0m \u001b[1m2s\u001b[0m 2s/step\n",
      "0.40119064 ham\n",
      "[0.4011906385421753, 'ham']\n"
     ]
    }
   ],
   "source": [
    "# function to predict messages based on model\n",
    "# (should return list containing prediction and label, ex. [0.008318834938108921, 'ham'])\n",
    "def predict_message(pred_text):\n",
    "    \n",
    "    sample_tensor = tf.convert_to_tensor([pred_text])\n",
    "\n",
    "    prediction = model.predict(sample_tensor)[0][0]\n",
    "\n",
    "    prob = tf.nn.sigmoid(prediction).numpy()\n",
    "    \n",
    "    print(prob, \"ham\" if prob < 0.5 else \"spam\")\n",
    "\n",
    "    return [prob.item(), \"ham\" if prob < 0.5 else \"spam\"]\n",
    "\n",
    "pred_text = \"how are you doing today?\"\n",
    "\n",
    "prediction = predict_message(pred_text)\n",
    "print(prediction)"
   ]
  },
  {
   "cell_type": "code",
   "execution_count": 30,
   "metadata": {},
   "outputs": [
    {
     "name": "stdout",
     "output_type": "stream",
     "text": [
      "\u001b[1m1/1\u001b[0m \u001b[32m━━━━━━━━━━━━━━━━━━━━\u001b[0m\u001b[37m\u001b[0m \u001b[1m0s\u001b[0m 455ms/step\n",
      "0.40119064 ham\n",
      "\u001b[1m1/1\u001b[0m \u001b[32m━━━━━━━━━━━━━━━━━━━━\u001b[0m\u001b[37m\u001b[0m \u001b[1m0s\u001b[0m 197ms/step\n",
      "0.5191843 spam\n",
      "\u001b[1m1/1\u001b[0m \u001b[32m━━━━━━━━━━━━━━━━━━━━\u001b[0m\u001b[37m\u001b[0m \u001b[1m0s\u001b[0m 225ms/step\n",
      "0.39498904 ham\n",
      "\u001b[1m1/1\u001b[0m \u001b[32m━━━━━━━━━━━━━━━━━━━━\u001b[0m\u001b[37m\u001b[0m \u001b[1m0s\u001b[0m 254ms/step\n",
      "0.75418544 spam\n",
      "\u001b[1m1/1\u001b[0m \u001b[32m━━━━━━━━━━━━━━━━━━━━\u001b[0m\u001b[37m\u001b[0m \u001b[1m0s\u001b[0m 202ms/step\n",
      "0.77936256 spam\n",
      "\u001b[1m1/1\u001b[0m \u001b[32m━━━━━━━━━━━━━━━━━━━━\u001b[0m\u001b[37m\u001b[0m \u001b[1m0s\u001b[0m 221ms/step\n",
      "0.39240456 ham\n",
      "\u001b[1m1/1\u001b[0m \u001b[32m━━━━━━━━━━━━━━━━━━━━\u001b[0m\u001b[37m\u001b[0m \u001b[1m0s\u001b[0m 227ms/step\n",
      "0.41823515 ham\n",
      "You passed the challenge. Great job!\n"
     ]
    }
   ],
   "source": [
    "# Run this cell to test your function and model. Do not modify contents.\n",
    "def test_predictions():\n",
    "  test_messages = [\"how are you doing today\",\n",
    "                   \"sale today! to stop texts call 98912460324\",\n",
    "                   \"i dont want to go. can we try it a different day? available sat\",\n",
    "                   \"our new mobile video service is live. just install on your phone to start watching.\",\n",
    "                   \"you have won £1000 cash! call to claim your prize.\",\n",
    "                   \"i'll bring it tomorrow. don't forget the milk.\",\n",
    "                   \"wow, is your arm alright. that happened to me one time too\"\n",
    "                  ]\n",
    "\n",
    "  test_answers = [\"ham\", \"spam\", \"ham\", \"spam\", \"spam\", \"ham\", \"ham\"]\n",
    "  passed = True\n",
    "\n",
    "  for msg, ans in zip(test_messages, test_answers):\n",
    "    prediction = predict_message(msg)\n",
    "    if prediction[1] != ans:\n",
    "      passed = False\n",
    "\n",
    "  if passed:\n",
    "    print(\"You passed the challenge. Great job!\")\n",
    "  else:\n",
    "    print(\"You haven't passed yet. Keep trying.\")\n",
    "\n",
    "test_predictions()\n"
   ]
  }
 ],
 "metadata": {
  "kernelspec": {
   "display_name": "venv",
   "language": "python",
   "name": "python3"
  },
  "language_info": {
   "codemirror_mode": {
    "name": "ipython",
    "version": 3
   },
   "file_extension": ".py",
   "mimetype": "text/x-python",
   "name": "python",
   "nbconvert_exporter": "python",
   "pygments_lexer": "ipython3",
   "version": "3.11.9"
  }
 },
 "nbformat": 4,
 "nbformat_minor": 2
}
