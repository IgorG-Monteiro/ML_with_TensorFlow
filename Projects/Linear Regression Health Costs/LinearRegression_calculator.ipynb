{
 "cells": [
  {
   "cell_type": "code",
   "execution_count": 1,
   "metadata": {},
   "outputs": [
    {
     "name": "stdout",
     "output_type": "stream",
     "text": [
      "\n",
      "\u001b[1m[\u001b[0m\u001b[34;49mnotice\u001b[0m\u001b[1;39;49m]\u001b[0m\u001b[39;49m A new release of pip is available: \u001b[0m\u001b[31;49m24.0\u001b[0m\u001b[39;49m -> \u001b[0m\u001b[32;49m25.0.1\u001b[0m\n",
      "\u001b[1m[\u001b[0m\u001b[34;49mnotice\u001b[0m\u001b[1;39;49m]\u001b[0m\u001b[39;49m To update, run: \u001b[0m\u001b[32;49mpip install --upgrade pip\u001b[0m\n"
     ]
    },
    {
     "name": "stderr",
     "output_type": "stream",
     "text": [
      "2025-03-19 12:37:46.566393: I tensorflow/core/util/port.cc:153] oneDNN custom operations are on. You may see slightly different numerical results due to floating-point round-off errors from different computation orders. To turn them off, set the environment variable `TF_ENABLE_ONEDNN_OPTS=0`.\n",
      "2025-03-19 12:37:46.627913: E external/local_xla/xla/stream_executor/cuda/cuda_fft.cc:477] Unable to register cuFFT factory: Attempting to register factory for plugin cuFFT when one has already been registered\n",
      "WARNING: All log messages before absl::InitializeLog() is called are written to STDERR\n",
      "E0000 00:00:1742398666.668096   34673 cuda_dnn.cc:8310] Unable to register cuDNN factory: Attempting to register factory for plugin cuDNN when one has already been registered\n",
      "E0000 00:00:1742398666.683707   34673 cuda_blas.cc:1418] Unable to register cuBLAS factory: Attempting to register factory for plugin cuBLAS when one has already been registered\n",
      "2025-03-19 12:37:46.748366: I tensorflow/core/platform/cpu_feature_guard.cc:210] This TensorFlow binary is optimized to use available CPU instructions in performance-critical operations.\n",
      "To enable the following instructions: AVX2 AVX_VNNI FMA, in other operations, rebuild TensorFlow with the appropriate compiler flags.\n"
     ]
    }
   ],
   "source": [
    "# Import libraries. You may or may not use all of these.\n",
    "!pip install -q git+https://github.com/tensorflow/docs\n",
    "import matplotlib.pyplot as plt\n",
    "import numpy as np\n",
    "import pandas as pd\n",
    "\n",
    "try:\n",
    "  # %tensorflow_version only exists in Colab.\n",
    "  %tensorflow_version 2.x\n",
    "except Exception:\n",
    "  pass\n",
    "import tensorflow as tf\n",
    "\n",
    "from tensorflow import keras\n",
    "from tensorflow.keras import layers\n",
    "\n",
    "import tensorflow_docs as tfdocs\n",
    "import tensorflow_docs.plots\n",
    "import tensorflow_docs.modeling"
   ]
  },
  {
   "cell_type": "code",
   "execution_count": 2,
   "metadata": {},
   "outputs": [
    {
     "name": "stdout",
     "output_type": "stream",
     "text": [
      "--2025-03-19 12:37:52--  https://cdn.freecodecamp.org/project-data/health-costs/insurance.csv\n",
      "Resolving cdn.freecodecamp.org (cdn.freecodecamp.org)... 104.26.3.33, 104.26.2.33, 172.67.70.149, ...\n",
      "Connecting to cdn.freecodecamp.org (cdn.freecodecamp.org)|104.26.3.33|:443... connected.\n",
      "HTTP request sent, awaiting response... 200 OK\n",
      "Length: 50264 (49K) [text/csv]\n",
      "Saving to: ‘insurance.csv’\n",
      "\n",
      "insurance.csv       100%[===================>]  49.09K  --.-KB/s    in 0.01s   \n",
      "\n",
      "2025-03-19 12:37:52 (4.74 MB/s) - ‘insurance.csv’ saved [50264/50264]\n",
      "\n"
     ]
    },
    {
     "data": {
      "text/html": [
       "<div>\n",
       "<style scoped>\n",
       "    .dataframe tbody tr th:only-of-type {\n",
       "        vertical-align: middle;\n",
       "    }\n",
       "\n",
       "    .dataframe tbody tr th {\n",
       "        vertical-align: top;\n",
       "    }\n",
       "\n",
       "    .dataframe thead th {\n",
       "        text-align: right;\n",
       "    }\n",
       "</style>\n",
       "<table border=\"1\" class=\"dataframe\">\n",
       "  <thead>\n",
       "    <tr style=\"text-align: right;\">\n",
       "      <th></th>\n",
       "      <th>age</th>\n",
       "      <th>sex</th>\n",
       "      <th>bmi</th>\n",
       "      <th>children</th>\n",
       "      <th>smoker</th>\n",
       "      <th>region</th>\n",
       "      <th>expenses</th>\n",
       "    </tr>\n",
       "  </thead>\n",
       "  <tbody>\n",
       "    <tr>\n",
       "      <th>1333</th>\n",
       "      <td>50</td>\n",
       "      <td>male</td>\n",
       "      <td>31.0</td>\n",
       "      <td>3</td>\n",
       "      <td>no</td>\n",
       "      <td>northwest</td>\n",
       "      <td>10600.55</td>\n",
       "    </tr>\n",
       "    <tr>\n",
       "      <th>1334</th>\n",
       "      <td>18</td>\n",
       "      <td>female</td>\n",
       "      <td>31.9</td>\n",
       "      <td>0</td>\n",
       "      <td>no</td>\n",
       "      <td>northeast</td>\n",
       "      <td>2205.98</td>\n",
       "    </tr>\n",
       "    <tr>\n",
       "      <th>1335</th>\n",
       "      <td>18</td>\n",
       "      <td>female</td>\n",
       "      <td>36.9</td>\n",
       "      <td>0</td>\n",
       "      <td>no</td>\n",
       "      <td>southeast</td>\n",
       "      <td>1629.83</td>\n",
       "    </tr>\n",
       "    <tr>\n",
       "      <th>1336</th>\n",
       "      <td>21</td>\n",
       "      <td>female</td>\n",
       "      <td>25.8</td>\n",
       "      <td>0</td>\n",
       "      <td>no</td>\n",
       "      <td>southwest</td>\n",
       "      <td>2007.95</td>\n",
       "    </tr>\n",
       "    <tr>\n",
       "      <th>1337</th>\n",
       "      <td>61</td>\n",
       "      <td>female</td>\n",
       "      <td>29.1</td>\n",
       "      <td>0</td>\n",
       "      <td>yes</td>\n",
       "      <td>northwest</td>\n",
       "      <td>29141.36</td>\n",
       "    </tr>\n",
       "  </tbody>\n",
       "</table>\n",
       "</div>"
      ],
      "text/plain": [
       "      age     sex   bmi  children smoker     region  expenses\n",
       "1333   50    male  31.0         3     no  northwest  10600.55\n",
       "1334   18  female  31.9         0     no  northeast   2205.98\n",
       "1335   18  female  36.9         0     no  southeast   1629.83\n",
       "1336   21  female  25.8         0     no  southwest   2007.95\n",
       "1337   61  female  29.1         0    yes  northwest  29141.36"
      ]
     },
     "execution_count": 2,
     "metadata": {},
     "output_type": "execute_result"
    }
   ],
   "source": [
    "# Import data\n",
    "!wget https://cdn.freecodecamp.org/project-data/health-costs/insurance.csv\n",
    "dataset = pd.read_csv('insurance.csv')\n",
    "dataset.tail()"
   ]
  },
  {
   "cell_type": "code",
   "execution_count": 3,
   "metadata": {},
   "outputs": [
    {
     "data": {
      "text/html": [
       "<div>\n",
       "<style scoped>\n",
       "    .dataframe tbody tr th:only-of-type {\n",
       "        vertical-align: middle;\n",
       "    }\n",
       "\n",
       "    .dataframe tbody tr th {\n",
       "        vertical-align: top;\n",
       "    }\n",
       "\n",
       "    .dataframe thead th {\n",
       "        text-align: right;\n",
       "    }\n",
       "</style>\n",
       "<table border=\"1\" class=\"dataframe\">\n",
       "  <thead>\n",
       "    <tr style=\"text-align: right;\">\n",
       "      <th></th>\n",
       "      <th>age</th>\n",
       "      <th>sex</th>\n",
       "      <th>bmi</th>\n",
       "      <th>children</th>\n",
       "      <th>smoker</th>\n",
       "      <th>region</th>\n",
       "      <th>expenses</th>\n",
       "    </tr>\n",
       "  </thead>\n",
       "  <tbody>\n",
       "    <tr>\n",
       "      <th>1333</th>\n",
       "      <td>50</td>\n",
       "      <td>1</td>\n",
       "      <td>31.0</td>\n",
       "      <td>3</td>\n",
       "      <td>1</td>\n",
       "      <td>2</td>\n",
       "      <td>10600.55</td>\n",
       "    </tr>\n",
       "    <tr>\n",
       "      <th>1334</th>\n",
       "      <td>18</td>\n",
       "      <td>0</td>\n",
       "      <td>31.9</td>\n",
       "      <td>0</td>\n",
       "      <td>1</td>\n",
       "      <td>3</td>\n",
       "      <td>2205.98</td>\n",
       "    </tr>\n",
       "    <tr>\n",
       "      <th>1335</th>\n",
       "      <td>18</td>\n",
       "      <td>0</td>\n",
       "      <td>36.9</td>\n",
       "      <td>0</td>\n",
       "      <td>1</td>\n",
       "      <td>1</td>\n",
       "      <td>1629.83</td>\n",
       "    </tr>\n",
       "    <tr>\n",
       "      <th>1336</th>\n",
       "      <td>21</td>\n",
       "      <td>0</td>\n",
       "      <td>25.8</td>\n",
       "      <td>0</td>\n",
       "      <td>1</td>\n",
       "      <td>0</td>\n",
       "      <td>2007.95</td>\n",
       "    </tr>\n",
       "    <tr>\n",
       "      <th>1337</th>\n",
       "      <td>61</td>\n",
       "      <td>0</td>\n",
       "      <td>29.1</td>\n",
       "      <td>0</td>\n",
       "      <td>0</td>\n",
       "      <td>2</td>\n",
       "      <td>29141.36</td>\n",
       "    </tr>\n",
       "  </tbody>\n",
       "</table>\n",
       "</div>"
      ],
      "text/plain": [
       "      age  sex   bmi  children  smoker  region  expenses\n",
       "1333   50    1  31.0         3       1       2  10600.55\n",
       "1334   18    0  31.9         0       1       3   2205.98\n",
       "1335   18    0  36.9         0       1       1   1629.83\n",
       "1336   21    0  25.8         0       1       0   2007.95\n",
       "1337   61    0  29.1         0       0       2  29141.36"
      ]
     },
     "execution_count": 3,
     "metadata": {},
     "output_type": "execute_result"
    }
   ],
   "source": [
    "df = dataset\n",
    "df[\"sex\"] = pd.factorize(df[\"sex\"])[0]\n",
    "df[\"region\"] = pd.factorize(df[\"region\"])[0]\n",
    "df[\"smoker\"] = pd.factorize(df[\"smoker\"])[0]\n",
    "df.tail()"
   ]
  },
  {
   "cell_type": "code",
   "execution_count": null,
   "metadata": {},
   "outputs": [
    {
     "name": "stdout",
     "output_type": "stream",
     "text": [
      "\n",
      "Test:\n",
      "       age  sex   bmi  children  smoker  region  expenses\n",
      "1133   52    0  18.3         0       1       2   9991.04\n",
      "475    61    1  28.3         1       0       2  28868.66\n",
      "1153   35    0  35.8         1       1       2   5630.46\n",
      "707    49    1  28.7         3       1       2  10264.44\n",
      "409    32    1  30.0         1       1       1   4074.45 \n",
      "Test Size: 268\n",
      "\n",
      "Train:\n",
      "     age  sex   bmi  children  smoker  region  expenses\n",
      "0  19.0  0.0  27.9       0.0     0.0     0.0  16884.92\n",
      "2  28.0  1.0  33.0       3.0     1.0     1.0   4449.46\n",
      "4  32.0  1.0  28.9       0.0     1.0     2.0   3866.86\n",
      "5  31.0  0.0  25.7       0.0     1.0     1.0   3756.62\n",
      "6  46.0  0.0  33.4       1.0     1.0     1.0   8240.59 \n",
      "Train Size: 1070\n"
     ]
    }
   ],
   "source": [
    "test_df = df.sample(frac=0.2)\n",
    "train_df = df[~df.isin(test_df)].dropna()\n",
    "\n",
    "print(\"\\nTest:\\n\", test_df.head(), \"\\nTest Size:\", len(test_df))\n",
    "print(\"\\nTrain:\\n\",train_df.head(), \"\\nTrain Size:\", len(train_df))"
   ]
  },
  {
   "cell_type": "code",
   "execution_count": 5,
   "metadata": {},
   "outputs": [
    {
     "name": "stdout",
     "output_type": "stream",
     "text": [
      "#################  TRAIN  ##################\n",
      "0    16884.92\n",
      "2     4449.46\n",
      "4     3866.86\n",
      "5     3756.62\n",
      "6     8240.59\n",
      "Name: expenses, dtype: float64 \n",
      "\n",
      "    age  sex   bmi  children  smoker  region\n",
      "0  19.0  0.0  27.9       0.0     0.0     0.0\n",
      "2  28.0  1.0  33.0       3.0     1.0     1.0\n",
      "4  32.0  1.0  28.9       0.0     1.0     2.0\n",
      "5  31.0  0.0  25.7       0.0     1.0     1.0\n",
      "6  46.0  0.0  33.4       1.0     1.0     1.0\n",
      "\n",
      "#################  TEST  ##################\n",
      "1133     9991.04\n",
      "475     28868.66\n",
      "1153     5630.46\n",
      "707     10264.44\n",
      "409      4074.45\n",
      "Name: expenses, dtype: float64 \n",
      "\n",
      "      age  sex   bmi  children  smoker  region\n",
      "1133   52    0  18.3         0       1       2\n",
      "475    61    1  28.3         1       0       2\n",
      "1153   35    0  35.8         1       1       2\n",
      "707    49    1  28.7         3       1       2\n",
      "409    32    1  30.0         1       1       1\n"
     ]
    }
   ],
   "source": [
    "train_labels = train_df.pop(\"expenses\")\n",
    "test_labels = test_df.pop(\"expenses\")\n",
    "\n",
    "print(\"#################  TRAIN  ##################\")\n",
    "print(train_labels.head(), \"\\n\")\n",
    "print(train_df.head())\n",
    "\n",
    "print(\"\\n#################  TEST  ##################\")\n",
    "print(test_labels.head(), \"\\n\")\n",
    "print(test_df.head())\n",
    "\n",
    "train_dataset = train_df\n",
    "test_dataset = test_df"
   ]
  },
  {
   "cell_type": "code",
   "execution_count": 6,
   "metadata": {},
   "outputs": [
    {
     "name": "stderr",
     "output_type": "stream",
     "text": [
      "I0000 00:00:1742398673.725617   34673 gpu_device.cc:2022] Created device /job:localhost/replica:0/task:0/device:GPU:0 with 3542 MB memory:  -> device: 0, name: NVIDIA GeForce RTX 4050 Laptop GPU, pci bus id: 0000:01:00.0, compute capability: 8.9\n"
     ]
    },
    {
     "data": {
      "text/html": [
       "<pre style=\"white-space:pre;overflow-x:auto;line-height:normal;font-family:Menlo,'DejaVu Sans Mono',consolas,'Courier New',monospace\"><span style=\"font-weight: bold\">Model: \"sequential\"</span>\n",
       "</pre>\n"
      ],
      "text/plain": [
       "\u001b[1mModel: \"sequential\"\u001b[0m\n"
      ]
     },
     "metadata": {},
     "output_type": "display_data"
    },
    {
     "data": {
      "text/html": [
       "<pre style=\"white-space:pre;overflow-x:auto;line-height:normal;font-family:Menlo,'DejaVu Sans Mono',consolas,'Courier New',monospace\">┏━━━━━━━━━━━━━━━━━━━━━━━━━━━━━━━━━┳━━━━━━━━━━━━━━━━━━━━━━━━┳━━━━━━━━━━━━━━━┓\n",
       "┃<span style=\"font-weight: bold\"> Layer (type)                    </span>┃<span style=\"font-weight: bold\"> Output Shape           </span>┃<span style=\"font-weight: bold\">       Param # </span>┃\n",
       "┡━━━━━━━━━━━━━━━━━━━━━━━━━━━━━━━━━╇━━━━━━━━━━━━━━━━━━━━━━━━╇━━━━━━━━━━━━━━━┩\n",
       "│ normalization (<span style=\"color: #0087ff; text-decoration-color: #0087ff\">Normalization</span>)   │ (<span style=\"color: #00d7ff; text-decoration-color: #00d7ff\">None</span>, <span style=\"color: #00af00; text-decoration-color: #00af00\">6</span>)              │            <span style=\"color: #00af00; text-decoration-color: #00af00\">13</span> │\n",
       "├─────────────────────────────────┼────────────────────────┼───────────────┤\n",
       "│ dense (<span style=\"color: #0087ff; text-decoration-color: #0087ff\">Dense</span>)                   │ (<span style=\"color: #00d7ff; text-decoration-color: #00d7ff\">None</span>, <span style=\"color: #00af00; text-decoration-color: #00af00\">16</span>)             │           <span style=\"color: #00af00; text-decoration-color: #00af00\">112</span> │\n",
       "├─────────────────────────────────┼────────────────────────┼───────────────┤\n",
       "│ dense_1 (<span style=\"color: #0087ff; text-decoration-color: #0087ff\">Dense</span>)                 │ (<span style=\"color: #00d7ff; text-decoration-color: #00d7ff\">None</span>, <span style=\"color: #00af00; text-decoration-color: #00af00\">4</span>)              │            <span style=\"color: #00af00; text-decoration-color: #00af00\">68</span> │\n",
       "├─────────────────────────────────┼────────────────────────┼───────────────┤\n",
       "│ dropout (<span style=\"color: #0087ff; text-decoration-color: #0087ff\">Dropout</span>)               │ (<span style=\"color: #00d7ff; text-decoration-color: #00d7ff\">None</span>, <span style=\"color: #00af00; text-decoration-color: #00af00\">4</span>)              │             <span style=\"color: #00af00; text-decoration-color: #00af00\">0</span> │\n",
       "├─────────────────────────────────┼────────────────────────┼───────────────┤\n",
       "│ dense_2 (<span style=\"color: #0087ff; text-decoration-color: #0087ff\">Dense</span>)                 │ (<span style=\"color: #00d7ff; text-decoration-color: #00d7ff\">None</span>, <span style=\"color: #00af00; text-decoration-color: #00af00\">1</span>)              │             <span style=\"color: #00af00; text-decoration-color: #00af00\">5</span> │\n",
       "└─────────────────────────────────┴────────────────────────┴───────────────┘\n",
       "</pre>\n"
      ],
      "text/plain": [
       "┏━━━━━━━━━━━━━━━━━━━━━━━━━━━━━━━━━┳━━━━━━━━━━━━━━━━━━━━━━━━┳━━━━━━━━━━━━━━━┓\n",
       "┃\u001b[1m \u001b[0m\u001b[1mLayer (type)                   \u001b[0m\u001b[1m \u001b[0m┃\u001b[1m \u001b[0m\u001b[1mOutput Shape          \u001b[0m\u001b[1m \u001b[0m┃\u001b[1m \u001b[0m\u001b[1m      Param #\u001b[0m\u001b[1m \u001b[0m┃\n",
       "┡━━━━━━━━━━━━━━━━━━━━━━━━━━━━━━━━━╇━━━━━━━━━━━━━━━━━━━━━━━━╇━━━━━━━━━━━━━━━┩\n",
       "│ normalization (\u001b[38;5;33mNormalization\u001b[0m)   │ (\u001b[38;5;45mNone\u001b[0m, \u001b[38;5;34m6\u001b[0m)              │            \u001b[38;5;34m13\u001b[0m │\n",
       "├─────────────────────────────────┼────────────────────────┼───────────────┤\n",
       "│ dense (\u001b[38;5;33mDense\u001b[0m)                   │ (\u001b[38;5;45mNone\u001b[0m, \u001b[38;5;34m16\u001b[0m)             │           \u001b[38;5;34m112\u001b[0m │\n",
       "├─────────────────────────────────┼────────────────────────┼───────────────┤\n",
       "│ dense_1 (\u001b[38;5;33mDense\u001b[0m)                 │ (\u001b[38;5;45mNone\u001b[0m, \u001b[38;5;34m4\u001b[0m)              │            \u001b[38;5;34m68\u001b[0m │\n",
       "├─────────────────────────────────┼────────────────────────┼───────────────┤\n",
       "│ dropout (\u001b[38;5;33mDropout\u001b[0m)               │ (\u001b[38;5;45mNone\u001b[0m, \u001b[38;5;34m4\u001b[0m)              │             \u001b[38;5;34m0\u001b[0m │\n",
       "├─────────────────────────────────┼────────────────────────┼───────────────┤\n",
       "│ dense_2 (\u001b[38;5;33mDense\u001b[0m)                 │ (\u001b[38;5;45mNone\u001b[0m, \u001b[38;5;34m1\u001b[0m)              │             \u001b[38;5;34m5\u001b[0m │\n",
       "└─────────────────────────────────┴────────────────────────┴───────────────┘\n"
      ]
     },
     "metadata": {},
     "output_type": "display_data"
    },
    {
     "data": {
      "text/html": [
       "<pre style=\"white-space:pre;overflow-x:auto;line-height:normal;font-family:Menlo,'DejaVu Sans Mono',consolas,'Courier New',monospace\"><span style=\"font-weight: bold\"> Total params: </span><span style=\"color: #00af00; text-decoration-color: #00af00\">198</span> (796.00 B)\n",
       "</pre>\n"
      ],
      "text/plain": [
       "\u001b[1m Total params: \u001b[0m\u001b[38;5;34m198\u001b[0m (796.00 B)\n"
      ]
     },
     "metadata": {},
     "output_type": "display_data"
    },
    {
     "data": {
      "text/html": [
       "<pre style=\"white-space:pre;overflow-x:auto;line-height:normal;font-family:Menlo,'DejaVu Sans Mono',consolas,'Courier New',monospace\"><span style=\"font-weight: bold\"> Trainable params: </span><span style=\"color: #00af00; text-decoration-color: #00af00\">185</span> (740.00 B)\n",
       "</pre>\n"
      ],
      "text/plain": [
       "\u001b[1m Trainable params: \u001b[0m\u001b[38;5;34m185\u001b[0m (740.00 B)\n"
      ]
     },
     "metadata": {},
     "output_type": "display_data"
    },
    {
     "data": {
      "text/html": [
       "<pre style=\"white-space:pre;overflow-x:auto;line-height:normal;font-family:Menlo,'DejaVu Sans Mono',consolas,'Courier New',monospace\"><span style=\"font-weight: bold\"> Non-trainable params: </span><span style=\"color: #00af00; text-decoration-color: #00af00\">13</span> (56.00 B)\n",
       "</pre>\n"
      ],
      "text/plain": [
       "\u001b[1m Non-trainable params: \u001b[0m\u001b[38;5;34m13\u001b[0m (56.00 B)\n"
      ]
     },
     "metadata": {},
     "output_type": "display_data"
    }
   ],
   "source": [
    "input_array = np.array(train_df)\n",
    "input_shape = input_array.shape[1:] \n",
    "\n",
    "normalizer = layers.Normalization(axis=-1)\n",
    "normalizer.adapt(input_array)\n",
    "\n",
    "model = keras.Sequential([\n",
    "    keras.Input(shape=input_shape), \n",
    "    normalizer,\n",
    "    layers.Dense(16, activation='relu'),\n",
    "    layers.Dense(4, activation='relu'),\n",
    "    layers.Dropout(.2),\n",
    "    layers.Dense(1)\n",
    "])\n",
    "\n",
    "model.compile(\n",
    "    optimizer = tf.optimizers.Adam(learning_rate=0.09),\n",
    "    loss='mae',\n",
    "    metrics=['mae', 'mse']\n",
    ")\n",
    "\n",
    "model.summary()"
   ]
  },
  {
   "cell_type": "code",
   "execution_count": 7,
   "metadata": {},
   "outputs": [
    {
     "name": "stdout",
     "output_type": "stream",
     "text": [
      "Epoch 1/100\n"
     ]
    },
    {
     "name": "stderr",
     "output_type": "stream",
     "text": [
      "WARNING: All log messages before absl::InitializeLog() is called are written to STDERR\n",
      "I0000 00:00:1742398677.183929   34936 service.cc:148] XLA service 0x7fbaa8015b40 initialized for platform CUDA (this does not guarantee that XLA will be used). Devices:\n",
      "I0000 00:00:1742398677.184044   34936 service.cc:156]   StreamExecutor device (0): NVIDIA GeForce RTX 4050 Laptop GPU, Compute Capability 8.9\n",
      "2025-03-19 12:37:57.224360: I tensorflow/compiler/mlir/tensorflow/utils/dump_mlir_util.cc:268] disabling MLIR crash reproducer, set env var `MLIR_CRASH_REPRODUCER_DIRECTORY` to enable.\n",
      "I0000 00:00:1742398677.444102   34936 cuda_dnn.cc:529] Loaded cuDNN version 90300\n"
     ]
    },
    {
     "name": "stdout",
     "output_type": "stream",
     "text": [
      "\u001b[1m16/17\u001b[0m \u001b[32m━━━━━━━━━━━━━━━━━━\u001b[0m\u001b[37m━━\u001b[0m \u001b[1m0s\u001b[0m 7ms/step - loss: 12910.0938 - mae: 12910.0938 - mse: 309315456.0000"
     ]
    },
    {
     "name": "stderr",
     "output_type": "stream",
     "text": [
      "I0000 00:00:1742398679.325189   34936 device_compiler.h:188] Compiled cluster using XLA!  This line is logged at most once for the lifetime of the process.\n"
     ]
    },
    {
     "name": "stdout",
     "output_type": "stream",
     "text": [
      "\u001b[1m17/17\u001b[0m \u001b[32m━━━━━━━━━━━━━━━━━━━━\u001b[0m\u001b[37m\u001b[0m \u001b[1m7s\u001b[0m 196ms/step - loss: 12953.9717 - mae: 12953.9717 - mse: 310890112.0000 - val_loss: 12927.5703 - val_mae: 12927.5703 - val_mse: 312154304.0000\n",
      "Epoch 2/100\n",
      "\u001b[1m17/17\u001b[0m \u001b[32m━━━━━━━━━━━━━━━━━━━━\u001b[0m\u001b[37m\u001b[0m \u001b[1m0s\u001b[0m 18ms/step - loss: 12830.9258 - mae: 12830.9258 - mse: 323984000.0000 - val_loss: 10414.9922 - val_mae: 10414.9922 - val_mse: 247894304.0000\n",
      "Epoch 3/100\n",
      "\u001b[1m17/17\u001b[0m \u001b[32m━━━━━━━━━━━━━━━━━━━━\u001b[0m\u001b[37m\u001b[0m \u001b[1m0s\u001b[0m 23ms/step - loss: 9280.7227 - mae: 9280.7227 - mse: 201750624.0000 - val_loss: 6662.7734 - val_mae: 6662.7734 - val_mse: 130704736.0000\n",
      "Epoch 4/100\n",
      "\u001b[1m17/17\u001b[0m \u001b[32m━━━━━━━━━━━━━━━━━━━━\u001b[0m\u001b[37m\u001b[0m \u001b[1m0s\u001b[0m 17ms/step - loss: 6312.4922 - mae: 6312.4922 - mse: 107633360.0000 - val_loss: 4629.0415 - val_mae: 4629.0415 - val_mse: 76488616.0000\n",
      "Epoch 5/100\n",
      "\u001b[1m17/17\u001b[0m \u001b[32m━━━━━━━━━━━━━━━━━━━━\u001b[0m\u001b[37m\u001b[0m \u001b[1m0s\u001b[0m 16ms/step - loss: 5681.9004 - mae: 5681.9004 - mse: 91528120.0000 - val_loss: 3675.1292 - val_mae: 3675.1292 - val_mse: 36957212.0000\n",
      "Epoch 6/100\n",
      "\u001b[1m17/17\u001b[0m \u001b[32m━━━━━━━━━━━━━━━━━━━━\u001b[0m\u001b[37m\u001b[0m \u001b[1m0s\u001b[0m 19ms/step - loss: 4473.4155 - mae: 4473.4155 - mse: 55882880.0000 - val_loss: 3801.7615 - val_mae: 3801.7615 - val_mse: 35451952.0000\n",
      "Epoch 7/100\n",
      "\u001b[1m17/17\u001b[0m \u001b[32m━━━━━━━━━━━━━━━━━━━━\u001b[0m\u001b[37m\u001b[0m \u001b[1m0s\u001b[0m 19ms/step - loss: 4826.4087 - mae: 4826.4087 - mse: 63262136.0000 - val_loss: 3612.8616 - val_mae: 3612.8616 - val_mse: 35790836.0000\n",
      "Epoch 8/100\n",
      "\u001b[1m17/17\u001b[0m \u001b[32m━━━━━━━━━━━━━━━━━━━━\u001b[0m\u001b[37m\u001b[0m \u001b[1m0s\u001b[0m 17ms/step - loss: 4536.7959 - mae: 4536.7959 - mse: 55214456.0000 - val_loss: 3573.4194 - val_mae: 3573.4194 - val_mse: 34491680.0000\n",
      "Epoch 9/100\n",
      "\u001b[1m17/17\u001b[0m \u001b[32m━━━━━━━━━━━━━━━━━━━━\u001b[0m\u001b[37m\u001b[0m \u001b[1m0s\u001b[0m 18ms/step - loss: 4103.7227 - mae: 4103.7227 - mse: 53044724.0000 - val_loss: 3444.1057 - val_mae: 3444.1057 - val_mse: 32615664.0000\n",
      "Epoch 10/100\n",
      "\u001b[1m17/17\u001b[0m \u001b[32m━━━━━━━━━━━━━━━━━━━━\u001b[0m\u001b[37m\u001b[0m \u001b[1m0s\u001b[0m 18ms/step - loss: 4559.1201 - mae: 4559.1201 - mse: 57610552.0000 - val_loss: 3479.4734 - val_mae: 3479.4734 - val_mse: 33618976.0000\n",
      "Epoch 11/100\n",
      "\u001b[1m17/17\u001b[0m \u001b[32m━━━━━━━━━━━━━━━━━━━━\u001b[0m\u001b[37m\u001b[0m \u001b[1m0s\u001b[0m 17ms/step - loss: 4578.5386 - mae: 4578.5386 - mse: 57002524.0000 - val_loss: 3642.9812 - val_mae: 3642.9812 - val_mse: 34160092.0000\n",
      "Epoch 12/100\n",
      "\u001b[1m17/17\u001b[0m \u001b[32m━━━━━━━━━━━━━━━━━━━━\u001b[0m\u001b[37m\u001b[0m \u001b[1m0s\u001b[0m 18ms/step - loss: 4117.8149 - mae: 4117.8149 - mse: 49039620.0000 - val_loss: 3637.0747 - val_mae: 3637.0747 - val_mse: 36066916.0000\n",
      "Epoch 13/100\n",
      "\u001b[1m17/17\u001b[0m \u001b[32m━━━━━━━━━━━━━━━━━━━━\u001b[0m\u001b[37m\u001b[0m \u001b[1m0s\u001b[0m 16ms/step - loss: 4667.1709 - mae: 4667.1709 - mse: 70362120.0000 - val_loss: 3596.7913 - val_mae: 3596.7913 - val_mse: 35904696.0000\n",
      "Epoch 14/100\n",
      "\u001b[1m17/17\u001b[0m \u001b[32m━━━━━━━━━━━━━━━━━━━━\u001b[0m\u001b[37m\u001b[0m \u001b[1m0s\u001b[0m 17ms/step - loss: 4455.3555 - mae: 4455.3555 - mse: 59049104.0000 - val_loss: 3319.8408 - val_mae: 3319.8408 - val_mse: 31511040.0000\n",
      "Epoch 15/100\n",
      "\u001b[1m17/17\u001b[0m \u001b[32m━━━━━━━━━━━━━━━━━━━━\u001b[0m\u001b[37m\u001b[0m \u001b[1m0s\u001b[0m 17ms/step - loss: 4357.4766 - mae: 4357.4766 - mse: 55146140.0000 - val_loss: 3587.2437 - val_mae: 3587.2437 - val_mse: 34219996.0000\n",
      "Epoch 16/100\n",
      "\u001b[1m17/17\u001b[0m \u001b[32m━━━━━━━━━━━━━━━━━━━━\u001b[0m\u001b[37m\u001b[0m \u001b[1m0s\u001b[0m 18ms/step - loss: 4598.7524 - mae: 4598.7524 - mse: 64057860.0000 - val_loss: 3428.4351 - val_mae: 3428.4351 - val_mse: 33678156.0000\n",
      "Epoch 17/100\n",
      "\u001b[1m17/17\u001b[0m \u001b[32m━━━━━━━━━━━━━━━━━━━━\u001b[0m\u001b[37m\u001b[0m \u001b[1m0s\u001b[0m 17ms/step - loss: 4576.2759 - mae: 4576.2759 - mse: 64422752.0000 - val_loss: 3373.3789 - val_mae: 3373.3789 - val_mse: 32491444.0000\n",
      "Epoch 18/100\n",
      "\u001b[1m17/17\u001b[0m \u001b[32m━━━━━━━━━━━━━━━━━━━━\u001b[0m\u001b[37m\u001b[0m \u001b[1m0s\u001b[0m 17ms/step - loss: 3744.6917 - mae: 3744.6917 - mse: 43502968.0000 - val_loss: 3160.6030 - val_mae: 3160.6030 - val_mse: 30123546.0000\n",
      "Epoch 19/100\n",
      "\u001b[1m17/17\u001b[0m \u001b[32m━━━━━━━━━━━━━━━━━━━━\u001b[0m\u001b[37m\u001b[0m \u001b[1m0s\u001b[0m 17ms/step - loss: 4277.8877 - mae: 4277.8877 - mse: 53805728.0000 - val_loss: 3600.9045 - val_mae: 3600.9045 - val_mse: 35967980.0000\n",
      "Epoch 20/100\n",
      "\u001b[1m17/17\u001b[0m \u001b[32m━━━━━━━━━━━━━━━━━━━━\u001b[0m\u001b[37m\u001b[0m \u001b[1m0s\u001b[0m 17ms/step - loss: 4516.4058 - mae: 4516.4058 - mse: 60335812.0000 - val_loss: 3426.9326 - val_mae: 3426.9326 - val_mse: 32959738.0000\n",
      "Epoch 21/100\n",
      "\u001b[1m17/17\u001b[0m \u001b[32m━━━━━━━━━━━━━━━━━━━━\u001b[0m\u001b[37m\u001b[0m \u001b[1m0s\u001b[0m 17ms/step - loss: 4184.2290 - mae: 4184.2290 - mse: 50237936.0000 - val_loss: 3713.1443 - val_mae: 3713.1443 - val_mse: 35589788.0000\n",
      "Epoch 22/100\n",
      "\u001b[1m17/17\u001b[0m \u001b[32m━━━━━━━━━━━━━━━━━━━━\u001b[0m\u001b[37m\u001b[0m \u001b[1m0s\u001b[0m 18ms/step - loss: 4127.6641 - mae: 4127.6641 - mse: 51555504.0000 - val_loss: 3148.5786 - val_mae: 3148.5786 - val_mse: 30001502.0000\n",
      "Epoch 23/100\n",
      "\u001b[1m17/17\u001b[0m \u001b[32m━━━━━━━━━━━━━━━━━━━━\u001b[0m\u001b[37m\u001b[0m \u001b[1m0s\u001b[0m 16ms/step - loss: 4183.2822 - mae: 4183.2822 - mse: 46150184.0000 - val_loss: 3510.4038 - val_mae: 3510.4038 - val_mse: 34225384.0000\n",
      "Epoch 24/100\n",
      "\u001b[1m17/17\u001b[0m \u001b[32m━━━━━━━━━━━━━━━━━━━━\u001b[0m\u001b[37m\u001b[0m \u001b[1m0s\u001b[0m 16ms/step - loss: 4517.6733 - mae: 4517.6733 - mse: 61947836.0000 - val_loss: 3141.7444 - val_mae: 3141.7444 - val_mse: 30170718.0000\n",
      "Epoch 25/100\n",
      "\u001b[1m17/17\u001b[0m \u001b[32m━━━━━━━━━━━━━━━━━━━━\u001b[0m\u001b[37m\u001b[0m \u001b[1m0s\u001b[0m 18ms/step - loss: 4049.4468 - mae: 4049.4468 - mse: 48222796.0000 - val_loss: 3145.4346 - val_mae: 3145.4346 - val_mse: 30095694.0000\n",
      "Epoch 26/100\n",
      "\u001b[1m17/17\u001b[0m \u001b[32m━━━━━━━━━━━━━━━━━━━━\u001b[0m\u001b[37m\u001b[0m \u001b[1m0s\u001b[0m 19ms/step - loss: 4555.2173 - mae: 4555.2173 - mse: 59477824.0000 - val_loss: 3336.2522 - val_mae: 3336.2522 - val_mse: 32741158.0000\n",
      "Epoch 27/100\n",
      "\u001b[1m17/17\u001b[0m \u001b[32m━━━━━━━━━━━━━━━━━━━━\u001b[0m\u001b[37m\u001b[0m \u001b[1m0s\u001b[0m 18ms/step - loss: 4037.8145 - mae: 4037.8145 - mse: 48714576.0000 - val_loss: 3272.1897 - val_mae: 3272.1897 - val_mse: 31756860.0000\n",
      "Epoch 28/100\n",
      "\u001b[1m17/17\u001b[0m \u001b[32m━━━━━━━━━━━━━━━━━━━━\u001b[0m\u001b[37m\u001b[0m \u001b[1m0s\u001b[0m 19ms/step - loss: 4448.0669 - mae: 4448.0669 - mse: 63003136.0000 - val_loss: 3261.6958 - val_mae: 3261.6958 - val_mse: 31401484.0000\n",
      "Epoch 29/100\n",
      "\u001b[1m17/17\u001b[0m \u001b[32m━━━━━━━━━━━━━━━━━━━━\u001b[0m\u001b[37m\u001b[0m \u001b[1m0s\u001b[0m 16ms/step - loss: 3993.3811 - mae: 3993.3811 - mse: 46621668.0000 - val_loss: 3316.3613 - val_mae: 3316.3613 - val_mse: 34420708.0000\n",
      "Epoch 30/100\n",
      "\u001b[1m17/17\u001b[0m \u001b[32m━━━━━━━━━━━━━━━━━━━━\u001b[0m\u001b[37m\u001b[0m \u001b[1m0s\u001b[0m 17ms/step - loss: 4012.6423 - mae: 4012.6423 - mse: 55287188.0000 - val_loss: 2954.1382 - val_mae: 2954.1382 - val_mse: 28165790.0000\n",
      "Epoch 31/100\n",
      "\u001b[1m17/17\u001b[0m \u001b[32m━━━━━━━━━━━━━━━━━━━━\u001b[0m\u001b[37m\u001b[0m \u001b[1m0s\u001b[0m 18ms/step - loss: 4452.2305 - mae: 4452.2305 - mse: 56272612.0000 - val_loss: 3355.4780 - val_mae: 3355.4780 - val_mse: 33395572.0000\n",
      "Epoch 32/100\n",
      "\u001b[1m17/17\u001b[0m \u001b[32m━━━━━━━━━━━━━━━━━━━━\u001b[0m\u001b[37m\u001b[0m \u001b[1m0s\u001b[0m 18ms/step - loss: 4334.9365 - mae: 4334.9365 - mse: 61718540.0000 - val_loss: 3112.7646 - val_mae: 3112.7646 - val_mse: 29877780.0000\n",
      "Epoch 33/100\n",
      "\u001b[1m17/17\u001b[0m \u001b[32m━━━━━━━━━━━━━━━━━━━━\u001b[0m\u001b[37m\u001b[0m \u001b[1m0s\u001b[0m 19ms/step - loss: 3911.8071 - mae: 3911.8071 - mse: 50169608.0000 - val_loss: 3292.2146 - val_mae: 3292.2146 - val_mse: 34048828.0000\n",
      "Epoch 34/100\n",
      "\u001b[1m17/17\u001b[0m \u001b[32m━━━━━━━━━━━━━━━━━━━━\u001b[0m\u001b[37m\u001b[0m \u001b[1m0s\u001b[0m 18ms/step - loss: 4382.1260 - mae: 4382.1260 - mse: 52332568.0000 - val_loss: 3035.3833 - val_mae: 3035.3833 - val_mse: 29119900.0000\n",
      "Epoch 35/100\n",
      "\u001b[1m17/17\u001b[0m \u001b[32m━━━━━━━━━━━━━━━━━━━━\u001b[0m\u001b[37m\u001b[0m \u001b[1m0s\u001b[0m 17ms/step - loss: 4648.5190 - mae: 4648.5190 - mse: 68282528.0000 - val_loss: 3178.8281 - val_mae: 3178.8281 - val_mse: 31667278.0000\n",
      "Epoch 36/100\n",
      "\u001b[1m17/17\u001b[0m \u001b[32m━━━━━━━━━━━━━━━━━━━━\u001b[0m\u001b[37m\u001b[0m \u001b[1m0s\u001b[0m 19ms/step - loss: 3998.7573 - mae: 3998.7573 - mse: 48228688.0000 - val_loss: 2934.7290 - val_mae: 2934.7290 - val_mse: 29680532.0000\n",
      "Epoch 37/100\n",
      "\u001b[1m17/17\u001b[0m \u001b[32m━━━━━━━━━━━━━━━━━━━━\u001b[0m\u001b[37m\u001b[0m \u001b[1m0s\u001b[0m 18ms/step - loss: 4049.0005 - mae: 4049.0005 - mse: 46162236.0000 - val_loss: 3039.6272 - val_mae: 3039.6272 - val_mse: 30568304.0000\n",
      "Epoch 38/100\n",
      "\u001b[1m17/17\u001b[0m \u001b[32m━━━━━━━━━━━━━━━━━━━━\u001b[0m\u001b[37m\u001b[0m \u001b[1m0s\u001b[0m 19ms/step - loss: 4399.0273 - mae: 4399.0273 - mse: 59647772.0000 - val_loss: 3228.6848 - val_mae: 3228.6848 - val_mse: 30441608.0000\n",
      "Epoch 39/100\n",
      "\u001b[1m17/17\u001b[0m \u001b[32m━━━━━━━━━━━━━━━━━━━━\u001b[0m\u001b[37m\u001b[0m \u001b[1m0s\u001b[0m 20ms/step - loss: 4421.4902 - mae: 4421.4902 - mse: 62645644.0000 - val_loss: 3156.9353 - val_mae: 3156.9353 - val_mse: 32324266.0000\n",
      "Epoch 40/100\n",
      "\u001b[1m17/17\u001b[0m \u001b[32m━━━━━━━━━━━━━━━━━━━━\u001b[0m\u001b[37m\u001b[0m \u001b[1m0s\u001b[0m 20ms/step - loss: 3981.4841 - mae: 3981.4841 - mse: 50847480.0000 - val_loss: 2915.7561 - val_mae: 2915.7561 - val_mse: 27968446.0000\n",
      "Epoch 41/100\n",
      "\u001b[1m17/17\u001b[0m \u001b[32m━━━━━━━━━━━━━━━━━━━━\u001b[0m\u001b[37m\u001b[0m \u001b[1m0s\u001b[0m 20ms/step - loss: 4173.3638 - mae: 4173.3638 - mse: 51413244.0000 - val_loss: 2892.3083 - val_mae: 2892.3083 - val_mse: 28686750.0000\n",
      "Epoch 42/100\n",
      "\u001b[1m17/17\u001b[0m \u001b[32m━━━━━━━━━━━━━━━━━━━━\u001b[0m\u001b[37m\u001b[0m \u001b[1m0s\u001b[0m 19ms/step - loss: 4198.9302 - mae: 4198.9302 - mse: 53555096.0000 - val_loss: 3083.0198 - val_mae: 3083.0198 - val_mse: 29950724.0000\n",
      "Epoch 43/100\n",
      "\u001b[1m17/17\u001b[0m \u001b[32m━━━━━━━━━━━━━━━━━━━━\u001b[0m\u001b[37m\u001b[0m \u001b[1m0s\u001b[0m 19ms/step - loss: 3781.1538 - mae: 3781.1538 - mse: 45110840.0000 - val_loss: 3225.8518 - val_mae: 3225.8518 - val_mse: 32698976.0000\n",
      "Epoch 44/100\n",
      "\u001b[1m17/17\u001b[0m \u001b[32m━━━━━━━━━━━━━━━━━━━━\u001b[0m\u001b[37m\u001b[0m \u001b[1m0s\u001b[0m 18ms/step - loss: 4122.5405 - mae: 4122.5405 - mse: 55816172.0000 - val_loss: 2933.3450 - val_mae: 2933.3450 - val_mse: 27902916.0000\n",
      "Epoch 45/100\n",
      "\u001b[1m17/17\u001b[0m \u001b[32m━━━━━━━━━━━━━━━━━━━━\u001b[0m\u001b[37m\u001b[0m \u001b[1m0s\u001b[0m 17ms/step - loss: 4102.0488 - mae: 4102.0488 - mse: 51562728.0000 - val_loss: 2950.7366 - val_mae: 2950.7366 - val_mse: 29910464.0000\n",
      "Epoch 46/100\n",
      "\u001b[1m17/17\u001b[0m \u001b[32m━━━━━━━━━━━━━━━━━━━━\u001b[0m\u001b[37m\u001b[0m \u001b[1m0s\u001b[0m 17ms/step - loss: 3666.6108 - mae: 3666.6108 - mse: 42394216.0000 - val_loss: 3169.7485 - val_mae: 3169.7485 - val_mse: 30904776.0000\n",
      "Epoch 47/100\n",
      "\u001b[1m17/17\u001b[0m \u001b[32m━━━━━━━━━━━━━━━━━━━━\u001b[0m\u001b[37m\u001b[0m \u001b[1m0s\u001b[0m 19ms/step - loss: 3970.8567 - mae: 3970.8567 - mse: 49169584.0000 - val_loss: 3072.8716 - val_mae: 3072.8716 - val_mse: 29670884.0000\n",
      "Epoch 48/100\n",
      "\u001b[1m17/17\u001b[0m \u001b[32m━━━━━━━━━━━━━━━━━━━━\u001b[0m\u001b[37m\u001b[0m \u001b[1m0s\u001b[0m 17ms/step - loss: 4232.5806 - mae: 4232.5806 - mse: 56971328.0000 - val_loss: 3101.0481 - val_mae: 3101.0481 - val_mse: 31108960.0000\n",
      "Epoch 49/100\n",
      "\u001b[1m17/17\u001b[0m \u001b[32m━━━━━━━━━━━━━━━━━━━━\u001b[0m\u001b[37m\u001b[0m \u001b[1m0s\u001b[0m 16ms/step - loss: 4408.6245 - mae: 4408.6245 - mse: 61933072.0000 - val_loss: 3075.3884 - val_mae: 3075.3884 - val_mse: 30773260.0000\n",
      "Epoch 50/100\n",
      "\u001b[1m17/17\u001b[0m \u001b[32m━━━━━━━━━━━━━━━━━━━━\u001b[0m\u001b[37m\u001b[0m \u001b[1m0s\u001b[0m 19ms/step - loss: 3949.4873 - mae: 3949.4873 - mse: 50168720.0000 - val_loss: 3133.9856 - val_mae: 3133.9856 - val_mse: 30127034.0000\n",
      "Epoch 51/100\n",
      "\u001b[1m17/17\u001b[0m \u001b[32m━━━━━━━━━━━━━━━━━━━━\u001b[0m\u001b[37m\u001b[0m \u001b[1m0s\u001b[0m 20ms/step - loss: 3701.2598 - mae: 3701.2598 - mse: 46536604.0000 - val_loss: 2850.0913 - val_mae: 2850.0913 - val_mse: 28453238.0000\n",
      "Epoch 52/100\n",
      "\u001b[1m17/17\u001b[0m \u001b[32m━━━━━━━━━━━━━━━━━━━━\u001b[0m\u001b[37m\u001b[0m \u001b[1m0s\u001b[0m 17ms/step - loss: 4068.9800 - mae: 4068.9800 - mse: 55180192.0000 - val_loss: 2973.2024 - val_mae: 2973.2024 - val_mse: 30492258.0000\n",
      "Epoch 53/100\n",
      "\u001b[1m17/17\u001b[0m \u001b[32m━━━━━━━━━━━━━━━━━━━━\u001b[0m\u001b[37m\u001b[0m \u001b[1m0s\u001b[0m 16ms/step - loss: 3954.4531 - mae: 3954.4531 - mse: 45893528.0000 - val_loss: 3156.0854 - val_mae: 3156.0854 - val_mse: 31584234.0000\n",
      "Epoch 54/100\n",
      "\u001b[1m17/17\u001b[0m \u001b[32m━━━━━━━━━━━━━━━━━━━━\u001b[0m\u001b[37m\u001b[0m \u001b[1m0s\u001b[0m 17ms/step - loss: 3898.1819 - mae: 3898.1819 - mse: 46640136.0000 - val_loss: 3005.0710 - val_mae: 3005.0710 - val_mse: 30738686.0000\n",
      "Epoch 55/100\n",
      "\u001b[1m17/17\u001b[0m \u001b[32m━━━━━━━━━━━━━━━━━━━━\u001b[0m\u001b[37m\u001b[0m \u001b[1m0s\u001b[0m 18ms/step - loss: 4051.7207 - mae: 4051.7207 - mse: 47940652.0000 - val_loss: 2961.1326 - val_mae: 2961.1326 - val_mse: 29545204.0000\n",
      "Epoch 56/100\n",
      "\u001b[1m17/17\u001b[0m \u001b[32m━━━━━━━━━━━━━━━━━━━━\u001b[0m\u001b[37m\u001b[0m \u001b[1m0s\u001b[0m 18ms/step - loss: 4045.9880 - mae: 4045.9880 - mse: 54585668.0000 - val_loss: 2753.8096 - val_mae: 2753.8096 - val_mse: 27795052.0000\n",
      "Epoch 57/100\n",
      "\u001b[1m17/17\u001b[0m \u001b[32m━━━━━━━━━━━━━━━━━━━━\u001b[0m\u001b[37m\u001b[0m \u001b[1m0s\u001b[0m 17ms/step - loss: 3594.4570 - mae: 3594.4570 - mse: 38976696.0000 - val_loss: 3136.3350 - val_mae: 3136.3350 - val_mse: 30534898.0000\n",
      "Epoch 58/100\n",
      "\u001b[1m17/17\u001b[0m \u001b[32m━━━━━━━━━━━━━━━━━━━━\u001b[0m\u001b[37m\u001b[0m \u001b[1m0s\u001b[0m 16ms/step - loss: 4120.9497 - mae: 4120.9497 - mse: 54983596.0000 - val_loss: 3162.3071 - val_mae: 3162.3071 - val_mse: 31531538.0000\n",
      "Epoch 59/100\n",
      "\u001b[1m17/17\u001b[0m \u001b[32m━━━━━━━━━━━━━━━━━━━━\u001b[0m\u001b[37m\u001b[0m \u001b[1m0s\u001b[0m 17ms/step - loss: 4444.1489 - mae: 4444.1489 - mse: 69865424.0000 - val_loss: 2903.2053 - val_mae: 2903.2053 - val_mse: 29538784.0000\n",
      "Epoch 60/100\n",
      "\u001b[1m17/17\u001b[0m \u001b[32m━━━━━━━━━━━━━━━━━━━━\u001b[0m\u001b[37m\u001b[0m \u001b[1m0s\u001b[0m 17ms/step - loss: 4051.7764 - mae: 4051.7764 - mse: 48657112.0000 - val_loss: 3003.9587 - val_mae: 3003.9587 - val_mse: 29204446.0000\n",
      "Epoch 61/100\n",
      "\u001b[1m17/17\u001b[0m \u001b[32m━━━━━━━━━━━━━━━━━━━━\u001b[0m\u001b[37m\u001b[0m \u001b[1m0s\u001b[0m 18ms/step - loss: 4512.5605 - mae: 4512.5605 - mse: 59452280.0000 - val_loss: 3030.0891 - val_mae: 3030.0891 - val_mse: 31163674.0000\n",
      "Epoch 62/100\n",
      "\u001b[1m17/17\u001b[0m \u001b[32m━━━━━━━━━━━━━━━━━━━━\u001b[0m\u001b[37m\u001b[0m \u001b[1m0s\u001b[0m 18ms/step - loss: 4227.5347 - mae: 4227.5347 - mse: 57773000.0000 - val_loss: 2822.7090 - val_mae: 2822.7090 - val_mse: 27630258.0000\n",
      "Epoch 63/100\n",
      "\u001b[1m17/17\u001b[0m \u001b[32m━━━━━━━━━━━━━━━━━━━━\u001b[0m\u001b[37m\u001b[0m \u001b[1m0s\u001b[0m 17ms/step - loss: 4069.0049 - mae: 4069.0049 - mse: 51377948.0000 - val_loss: 3173.2336 - val_mae: 3173.2336 - val_mse: 31343572.0000\n",
      "Epoch 64/100\n",
      "\u001b[1m17/17\u001b[0m \u001b[32m━━━━━━━━━━━━━━━━━━━━\u001b[0m\u001b[37m\u001b[0m \u001b[1m0s\u001b[0m 18ms/step - loss: 4257.6343 - mae: 4257.6343 - mse: 56188440.0000 - val_loss: 2845.2527 - val_mae: 2845.2527 - val_mse: 27559468.0000\n",
      "Epoch 65/100\n",
      "\u001b[1m17/17\u001b[0m \u001b[32m━━━━━━━━━━━━━━━━━━━━\u001b[0m\u001b[37m\u001b[0m \u001b[1m0s\u001b[0m 17ms/step - loss: 3530.4907 - mae: 3530.4907 - mse: 41541252.0000 - val_loss: 2936.3074 - val_mae: 2936.3074 - val_mse: 29388230.0000\n",
      "Epoch 66/100\n",
      "\u001b[1m17/17\u001b[0m \u001b[32m━━━━━━━━━━━━━━━━━━━━\u001b[0m\u001b[37m\u001b[0m \u001b[1m1s\u001b[0m 17ms/step - loss: 4124.9160 - mae: 4124.9160 - mse: 49024844.0000 - val_loss: 2950.8354 - val_mae: 2950.8354 - val_mse: 28994360.0000\n",
      "Epoch 67/100\n",
      "\u001b[1m17/17\u001b[0m \u001b[32m━━━━━━━━━━━━━━━━━━━━\u001b[0m\u001b[37m\u001b[0m \u001b[1m0s\u001b[0m 17ms/step - loss: 4471.2437 - mae: 4471.2437 - mse: 57365904.0000 - val_loss: 2959.6433 - val_mae: 2959.6433 - val_mse: 29137220.0000\n",
      "Epoch 68/100\n",
      "\u001b[1m17/17\u001b[0m \u001b[32m━━━━━━━━━━━━━━━━━━━━\u001b[0m\u001b[37m\u001b[0m \u001b[1m0s\u001b[0m 17ms/step - loss: 3717.3193 - mae: 3717.3193 - mse: 50707300.0000 - val_loss: 2734.8462 - val_mae: 2734.8462 - val_mse: 28469272.0000\n",
      "Epoch 69/100\n",
      "\u001b[1m17/17\u001b[0m \u001b[32m━━━━━━━━━━━━━━━━━━━━\u001b[0m\u001b[37m\u001b[0m \u001b[1m0s\u001b[0m 17ms/step - loss: 4056.1572 - mae: 4056.1572 - mse: 44968928.0000 - val_loss: 3101.7576 - val_mae: 3101.7576 - val_mse: 30403704.0000\n",
      "Epoch 70/100\n",
      "\u001b[1m17/17\u001b[0m \u001b[32m━━━━━━━━━━━━━━━━━━━━\u001b[0m\u001b[37m\u001b[0m \u001b[1m0s\u001b[0m 17ms/step - loss: 4291.5713 - mae: 4291.5713 - mse: 55430868.0000 - val_loss: 2429.8870 - val_mae: 2429.8870 - val_mse: 25422100.0000\n",
      "Epoch 71/100\n",
      "\u001b[1m17/17\u001b[0m \u001b[32m━━━━━━━━━━━━━━━━━━━━\u001b[0m\u001b[37m\u001b[0m \u001b[1m0s\u001b[0m 18ms/step - loss: 3798.8655 - mae: 3798.8655 - mse: 41088784.0000 - val_loss: 3010.6248 - val_mae: 3010.6248 - val_mse: 30566086.0000\n",
      "Epoch 72/100\n",
      "\u001b[1m17/17\u001b[0m \u001b[32m━━━━━━━━━━━━━━━━━━━━\u001b[0m\u001b[37m\u001b[0m \u001b[1m0s\u001b[0m 17ms/step - loss: 3794.1863 - mae: 3794.1863 - mse: 46633888.0000 - val_loss: 3046.7461 - val_mae: 3046.7461 - val_mse: 29046108.0000\n",
      "Epoch 73/100\n",
      "\u001b[1m17/17\u001b[0m \u001b[32m━━━━━━━━━━━━━━━━━━━━\u001b[0m\u001b[37m\u001b[0m \u001b[1m0s\u001b[0m 17ms/step - loss: 3556.1726 - mae: 3556.1726 - mse: 41723712.0000 - val_loss: 2731.2122 - val_mae: 2731.2122 - val_mse: 28789206.0000\n",
      "Epoch 74/100\n",
      "\u001b[1m17/17\u001b[0m \u001b[32m━━━━━━━━━━━━━━━━━━━━\u001b[0m\u001b[37m\u001b[0m \u001b[1m0s\u001b[0m 18ms/step - loss: 3675.7363 - mae: 3675.7363 - mse: 42391796.0000 - val_loss: 2888.4124 - val_mae: 2888.4124 - val_mse: 30172836.0000\n",
      "Epoch 75/100\n",
      "\u001b[1m17/17\u001b[0m \u001b[32m━━━━━━━━━━━━━━━━━━━━\u001b[0m\u001b[37m\u001b[0m \u001b[1m0s\u001b[0m 17ms/step - loss: 4316.9131 - mae: 4316.9131 - mse: 52212760.0000 - val_loss: 3006.2183 - val_mae: 3006.2183 - val_mse: 30392438.0000\n",
      "Epoch 76/100\n",
      "\u001b[1m17/17\u001b[0m \u001b[32m━━━━━━━━━━━━━━━━━━━━\u001b[0m\u001b[37m\u001b[0m \u001b[1m0s\u001b[0m 18ms/step - loss: 4228.8867 - mae: 4228.8867 - mse: 53309752.0000 - val_loss: 3002.8850 - val_mae: 3002.8850 - val_mse: 28961444.0000\n",
      "Epoch 77/100\n",
      "\u001b[1m17/17\u001b[0m \u001b[32m━━━━━━━━━━━━━━━━━━━━\u001b[0m\u001b[37m\u001b[0m \u001b[1m0s\u001b[0m 19ms/step - loss: 4174.6206 - mae: 4174.6206 - mse: 55093560.0000 - val_loss: 3220.6985 - val_mae: 3220.6985 - val_mse: 32508942.0000\n",
      "Epoch 78/100\n",
      "\u001b[1m17/17\u001b[0m \u001b[32m━━━━━━━━━━━━━━━━━━━━\u001b[0m\u001b[37m\u001b[0m \u001b[1m0s\u001b[0m 17ms/step - loss: 3604.6377 - mae: 3604.6377 - mse: 43978536.0000 - val_loss: 3136.0957 - val_mae: 3136.0957 - val_mse: 31410472.0000\n",
      "Epoch 79/100\n",
      "\u001b[1m17/17\u001b[0m \u001b[32m━━━━━━━━━━━━━━━━━━━━\u001b[0m\u001b[37m\u001b[0m \u001b[1m0s\u001b[0m 18ms/step - loss: 4058.3801 - mae: 4058.3801 - mse: 57994372.0000 - val_loss: 2774.5950 - val_mae: 2774.5950 - val_mse: 26714888.0000\n",
      "Epoch 80/100\n",
      "\u001b[1m17/17\u001b[0m \u001b[32m━━━━━━━━━━━━━━━━━━━━\u001b[0m\u001b[37m\u001b[0m \u001b[1m0s\u001b[0m 17ms/step - loss: 3917.1482 - mae: 3917.1482 - mse: 47060416.0000 - val_loss: 2941.9055 - val_mae: 2941.9055 - val_mse: 29117278.0000\n",
      "Epoch 81/100\n",
      "\u001b[1m17/17\u001b[0m \u001b[32m━━━━━━━━━━━━━━━━━━━━\u001b[0m\u001b[37m\u001b[0m \u001b[1m0s\u001b[0m 16ms/step - loss: 3881.7476 - mae: 3881.7476 - mse: 46181608.0000 - val_loss: 2929.2793 - val_mae: 2929.2793 - val_mse: 30036896.0000\n",
      "Epoch 82/100\n",
      "\u001b[1m17/17\u001b[0m \u001b[32m━━━━━━━━━━━━━━━━━━━━\u001b[0m\u001b[37m\u001b[0m \u001b[1m0s\u001b[0m 17ms/step - loss: 3379.9189 - mae: 3379.9189 - mse: 37203472.0000 - val_loss: 2820.8184 - val_mae: 2820.8184 - val_mse: 27538162.0000\n",
      "Epoch 83/100\n",
      "\u001b[1m17/17\u001b[0m \u001b[32m━━━━━━━━━━━━━━━━━━━━\u001b[0m\u001b[37m\u001b[0m \u001b[1m0s\u001b[0m 17ms/step - loss: 4087.2703 - mae: 4087.2703 - mse: 48436764.0000 - val_loss: 3315.7869 - val_mae: 3315.7869 - val_mse: 35516960.0000\n",
      "Epoch 84/100\n",
      "\u001b[1m17/17\u001b[0m \u001b[32m━━━━━━━━━━━━━━━━━━━━\u001b[0m\u001b[37m\u001b[0m \u001b[1m0s\u001b[0m 17ms/step - loss: 4152.2031 - mae: 4152.2031 - mse: 55385432.0000 - val_loss: 3097.1660 - val_mae: 3097.1660 - val_mse: 31080090.0000\n",
      "Epoch 85/100\n",
      "\u001b[1m17/17\u001b[0m \u001b[32m━━━━━━━━━━━━━━━━━━━━\u001b[0m\u001b[37m\u001b[0m \u001b[1m0s\u001b[0m 19ms/step - loss: 4158.1973 - mae: 4158.1973 - mse: 50295172.0000 - val_loss: 2927.3169 - val_mae: 2927.3169 - val_mse: 28563266.0000\n",
      "Epoch 86/100\n",
      "\u001b[1m17/17\u001b[0m \u001b[32m━━━━━━━━━━━━━━━━━━━━\u001b[0m\u001b[37m\u001b[0m \u001b[1m0s\u001b[0m 17ms/step - loss: 4147.0479 - mae: 4147.0479 - mse: 53966216.0000 - val_loss: 2923.9055 - val_mae: 2923.9055 - val_mse: 30127068.0000\n",
      "Epoch 87/100\n",
      "\u001b[1m17/17\u001b[0m \u001b[32m━━━━━━━━━━━━━━━━━━━━\u001b[0m\u001b[37m\u001b[0m \u001b[1m0s\u001b[0m 18ms/step - loss: 3703.0120 - mae: 3703.0120 - mse: 40512740.0000 - val_loss: 2930.9236 - val_mae: 2930.9236 - val_mse: 29440740.0000\n",
      "Epoch 88/100\n",
      "\u001b[1m17/17\u001b[0m \u001b[32m━━━━━━━━━━━━━━━━━━━━\u001b[0m\u001b[37m\u001b[0m \u001b[1m0s\u001b[0m 16ms/step - loss: 4337.8950 - mae: 4337.8950 - mse: 57874928.0000 - val_loss: 3056.2432 - val_mae: 3056.2432 - val_mse: 30603198.0000\n",
      "Epoch 89/100\n",
      "\u001b[1m17/17\u001b[0m \u001b[32m━━━━━━━━━━━━━━━━━━━━\u001b[0m\u001b[37m\u001b[0m \u001b[1m0s\u001b[0m 17ms/step - loss: 4244.9756 - mae: 4244.9756 - mse: 51303172.0000 - val_loss: 3093.3003 - val_mae: 3093.3003 - val_mse: 29591326.0000\n",
      "Epoch 90/100\n",
      "\u001b[1m17/17\u001b[0m \u001b[32m━━━━━━━━━━━━━━━━━━━━\u001b[0m\u001b[37m\u001b[0m \u001b[1m0s\u001b[0m 17ms/step - loss: 3636.6626 - mae: 3636.6626 - mse: 40570084.0000 - val_loss: 2926.2217 - val_mae: 2926.2217 - val_mse: 29258908.0000\n",
      "Epoch 91/100\n",
      "\u001b[1m17/17\u001b[0m \u001b[32m━━━━━━━━━━━━━━━━━━━━\u001b[0m\u001b[37m\u001b[0m \u001b[1m0s\u001b[0m 17ms/step - loss: 4010.3174 - mae: 4010.3174 - mse: 55524420.0000 - val_loss: 2932.2634 - val_mae: 2932.2634 - val_mse: 29392352.0000\n",
      "Epoch 92/100\n",
      "\u001b[1m17/17\u001b[0m \u001b[32m━━━━━━━━━━━━━━━━━━━━\u001b[0m\u001b[37m\u001b[0m \u001b[1m0s\u001b[0m 17ms/step - loss: 3792.3000 - mae: 3792.3000 - mse: 44296036.0000 - val_loss: 3033.0149 - val_mae: 3033.0149 - val_mse: 30807846.0000\n",
      "Epoch 93/100\n",
      "\u001b[1m17/17\u001b[0m \u001b[32m━━━━━━━━━━━━━━━━━━━━\u001b[0m\u001b[37m\u001b[0m \u001b[1m0s\u001b[0m 17ms/step - loss: 4041.6521 - mae: 4041.6521 - mse: 52759592.0000 - val_loss: 2818.5894 - val_mae: 2818.5894 - val_mse: 28580626.0000\n",
      "Epoch 94/100\n",
      "\u001b[1m17/17\u001b[0m \u001b[32m━━━━━━━━━━━━━━━━━━━━\u001b[0m\u001b[37m\u001b[0m \u001b[1m0s\u001b[0m 17ms/step - loss: 4395.5049 - mae: 4395.5049 - mse: 56351816.0000 - val_loss: 2876.6238 - val_mae: 2876.6238 - val_mse: 29109192.0000\n",
      "Epoch 95/100\n",
      "\u001b[1m17/17\u001b[0m \u001b[32m━━━━━━━━━━━━━━━━━━━━\u001b[0m\u001b[37m\u001b[0m \u001b[1m0s\u001b[0m 18ms/step - loss: 3858.3435 - mae: 3858.3435 - mse: 47821036.0000 - val_loss: 3145.6155 - val_mae: 3145.6155 - val_mse: 33478668.0000\n",
      "Epoch 96/100\n",
      "\u001b[1m17/17\u001b[0m \u001b[32m━━━━━━━━━━━━━━━━━━━━\u001b[0m\u001b[37m\u001b[0m \u001b[1m0s\u001b[0m 17ms/step - loss: 4278.7979 - mae: 4278.7979 - mse: 55877600.0000 - val_loss: 2967.8813 - val_mae: 2967.8813 - val_mse: 29172246.0000\n",
      "Epoch 97/100\n",
      "\u001b[1m17/17\u001b[0m \u001b[32m━━━━━━━━━━━━━━━━━━━━\u001b[0m\u001b[37m\u001b[0m \u001b[1m0s\u001b[0m 16ms/step - loss: 4350.6948 - mae: 4350.6948 - mse: 63739940.0000 - val_loss: 3000.3970 - val_mae: 3000.3970 - val_mse: 29111230.0000\n",
      "Epoch 98/100\n",
      "\u001b[1m17/17\u001b[0m \u001b[32m━━━━━━━━━━━━━━━━━━━━\u001b[0m\u001b[37m\u001b[0m \u001b[1m0s\u001b[0m 20ms/step - loss: 3922.4553 - mae: 3922.4553 - mse: 46122888.0000 - val_loss: 3114.3831 - val_mae: 3114.3831 - val_mse: 30709672.0000\n",
      "Epoch 99/100\n",
      "\u001b[1m17/17\u001b[0m \u001b[32m━━━━━━━━━━━━━━━━━━━━\u001b[0m\u001b[37m\u001b[0m \u001b[1m0s\u001b[0m 20ms/step - loss: 3641.1235 - mae: 3641.1235 - mse: 41850284.0000 - val_loss: 3000.9226 - val_mae: 3000.9226 - val_mse: 30563592.0000\n",
      "Epoch 100/100\n",
      "\u001b[1m17/17\u001b[0m \u001b[32m━━━━━━━━━━━━━━━━━━━━\u001b[0m\u001b[37m\u001b[0m \u001b[1m0s\u001b[0m 18ms/step - loss: 3961.0564 - mae: 3961.0564 - mse: 60546280.0000 - val_loss: 3062.4497 - val_mae: 3062.4497 - val_mse: 31758418.0000\n"
     ]
    }
   ],
   "source": [
    "history = model.fit(\n",
    "    train_dataset,\n",
    "    train_labels,\n",
    "    epochs=100,\n",
    "    validation_split=0.5 \n",
    ")"
   ]
  },
  {
   "cell_type": "code",
   "execution_count": 8,
   "metadata": {},
   "outputs": [
    {
     "name": "stdout",
     "output_type": "stream",
     "text": [
      "9/9 - 1s - 62ms/step - loss: 3002.7532 - mae: 3002.7532 - mse: 33045354.0000\n",
      "Testing set Mean Abs Error: 3002.75 expenses\n",
      "You passed the challenge. Great job!\n",
      "\u001b[1m9/9\u001b[0m \u001b[32m━━━━━━━━━━━━━━━━━━━━\u001b[0m\u001b[37m\u001b[0m \u001b[1m1s\u001b[0m 45ms/step\n"
     ]
    },
    {
     "data": {
      "image/png": "[encoded data removed]",
      "text/plain": [
       "<Figure size 640x480 with 1 Axes>"
      ]
     },
     "metadata": {},
     "output_type": "display_data"
    }
   ],
   "source": [
    "# RUN THIS CELL TO TEST YOUR MODEL. DO NOT MODIFY CONTENTS.\n",
    "# Test model by checking how well the model generalizes using the test set.\n",
    "loss, mae, mse = model.evaluate(test_dataset, test_labels, verbose=2)\n",
    "\n",
    "print(\"Testing set Mean Abs Error: {:5.2f} expenses\".format(mae))\n",
    "\n",
    "if mae < 3500:\n",
    "  print(\"You passed the challenge. Great job!\")\n",
    "else:\n",
    "  print(\"The Mean Abs Error must be less than 3500. Keep trying.\")\n",
    "\n",
    "# Plot predictions.\n",
    "test_predictions = model.predict(test_dataset).flatten()\n",
    "\n",
    "a = plt.axes(aspect='equal')\n",
    "plt.scatter(test_labels, test_predictions)\n",
    "plt.xlabel('True values (expenses)')\n",
    "plt.ylabel('Predictions (expenses)')\n",
    "lims = [0, 50000]\n",
    "plt.xlim(lims)\n",
    "plt.ylim(lims)\n",
    "_ = plt.plot(lims,lims)\n"
   ]
  }
 ],
 "metadata": {
  "kernelspec": {
   "display_name": "venv",
   "language": "python",
   "name": "python3"
  },
  "language_info": {
   "codemirror_mode": {
    "name": "ipython",
    "version": 3
   },
   "file_extension": ".py",
   "mimetype": "text/x-python",
   "name": "python",
   "nbconvert_exporter": "python",
   "pygments_lexer": "ipython3",
   "version": "3.11.9"
  }
 },
 "nbformat": 4,
 "nbformat_minor": 2
}
