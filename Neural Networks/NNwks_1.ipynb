{
 "cells": [
  {
   "cell_type": "code",
   "execution_count": 73,
   "metadata": {},
   "outputs": [],
   "source": [
    "import tensorflow as tf\n",
    "from tensorflow import keras\n",
    "import numpy as np\n",
    "import matplotlib.pyplot as plt\n",
    "from IPython.display import clear_output"
   ]
  },
  {
   "cell_type": "code",
   "execution_count": 28,
   "metadata": {},
   "outputs": [],
   "source": [
    "# load fashion dataset (included in keras) -- 60.000 images for training and 10.000 for validation/testing\n",
    "\n",
    "fashion_mnist = keras.datasets.fashion_mnist # loading the dataset\n",
    "\n",
    "(train_images, train_labels), (test_images, test_labels) = fashion_mnist.load_data()  # spliting into testing and training"
   ]
  },
  {
   "cell_type": "code",
   "execution_count": 29,
   "metadata": {},
   "outputs": [
    {
     "data": {
      "text/plain": [
       "(60000, 28, 28)"
      ]
     },
     "execution_count": 29,
     "metadata": {},
     "output_type": "execute_result"
    }
   ],
   "source": [
    "train_images.shape # showing the data shape (60.000 images, made up of 28x28 pixels)"
   ]
  },
  {
   "cell_type": "code",
   "execution_count": 30,
   "metadata": {},
   "outputs": [
    {
     "data": {
      "text/plain": [
       "194"
      ]
     },
     "execution_count": 30,
     "metadata": {},
     "output_type": "execute_result"
    }
   ],
   "source": [
    "train_images[0,23,23] # looking at just 1 pixel (between 0-255 grayscale)"
   ]
  },
  {
   "cell_type": "code",
   "execution_count": 31,
   "metadata": {},
   "outputs": [
    {
     "data": {
      "text/plain": [
       "array([9, 0, 0, 3, 0, 2, 7, 2, 5, 5], dtype=uint8)"
      ]
     },
     "execution_count": 31,
     "metadata": {},
     "output_type": "execute_result"
    }
   ],
   "source": [
    "# types of clothing of the dataset (we do not specify, it's already given in the dataset details we just implement them here)\n",
    "class_names = ['T-shirt/top', 'Trouser', 'Pullover', 'Dress', 'Coat', 'Sandal', 'Shirt', 'Sneaker', 'Bag', 'Ankle boot']\n",
    "\n",
    "train_labels[:10] # showing 10 first"
   ]
  },
  {
   "cell_type": "code",
   "execution_count": 32,
   "metadata": {},
   "outputs": [
    {
     "data": {
      "image/png": "[encoded data removed]",
      "text/plain": [
       "<Figure size 640x480 with 2 Axes>"
      ]
     },
     "metadata": {},
     "output_type": "display_data"
    }
   ],
   "source": [
    "# using matplot lib just to show how the images look like\n",
    "plt.figure()\n",
    "plt.imshow(train_images[3])\n",
    "plt.colorbar()\n",
    "#plt.grid(False)\n",
    "plt.show()"
   ]
  },
  {
   "cell_type": "code",
   "execution_count": 33,
   "metadata": {},
   "outputs": [],
   "source": [
    "# DATA PREPROCESSING \n",
    "# In this case we will simply scale all of our greyscale pixels values (0-255) to be between 0 and 1\n",
    "\n",
    "train_images = train_images / 255.0\n",
    "test_images = test_images / 255.0"
   ]
  },
  {
   "cell_type": "code",
   "execution_count": 34,
   "metadata": {},
   "outputs": [
    {
     "name": "stderr",
     "output_type": "stream",
     "text": [
      "c:\\Users\\igorm\\AppData\\Local\\Programs\\Python\\Python312\\Lib\\site-packages\\keras\\src\\layers\\reshaping\\flatten.py:37: UserWarning: Do not pass an `input_shape`/`input_dim` argument to a layer. When using Sequential models, prefer using an `Input(shape)` object as the first layer in the model instead.\n",
      "  super().__init__(**kwargs)\n"
     ]
    }
   ],
   "source": [
    "# BUILDING THE MODEL\n",
    "# We are using keras sequential model with three different layers. This model represents a feed-forward neural network\n",
    "\n",
    "model = keras.Sequential([\n",
    "    keras.layers.Flatten(input_shape=(28, 28)),     # input layer (1)\n",
    "    keras.layers.Dense(128, activation='relu'),     # hidden layer (2)\n",
    "    keras.layers.Dense(10, activation='softmax')    # output layer (3) \n",
    "])\n",
    "\n",
    "# LAYER 1: Input layer consisting in 784 neurons. The Flatten means we will reshape the array(28,28) into a vector 784 neurons\n",
    "# and each pixel will b e associate with one neuron\n",
    "\n",
    "# LAYER 2: Only hidden layer. The Dense denotes that layer will be fully connected and each neuron from the previous one.\n",
    "# It has 128 neurons and usese the rectify linear unit activation function\n",
    "\n",
    "# LAYER 3: It has 10 neurons that we will look at to determine or model output. Each neuron represents the probabillity of a \n",
    "# given image being one of the 10 different classes. The activation function softmax is used to do the calculations"
   ]
  },
  {
   "cell_type": "code",
   "execution_count": 35,
   "metadata": {},
   "outputs": [],
   "source": [
    "# COMPILING THE MODEL\n",
    "# Here we define the loss function, optimizer and metrics we would track\n",
    "\n",
    "model.compile(optimizer='adam',\n",
    "              loss='sparse_categorical_crossentropy',\n",
    "              metrics=['accuracy'])"
   ]
  },
  {
   "cell_type": "code",
   "execution_count": 40,
   "metadata": {},
   "outputs": [
    {
     "name": "stdout",
     "output_type": "stream",
     "text": [
      "Epoch 1/10\n",
      "\u001b[1m60000/60000\u001b[0m \u001b[32m━━━━━━━━━━━━━━━━━━━━\u001b[0m\u001b[37m\u001b[0m \u001b[1m61s\u001b[0m 1ms/step - accuracy: 0.8312 - loss: 0.4921\n",
      "Epoch 2/10\n",
      "\u001b[1m60000/60000\u001b[0m \u001b[32m━━━━━━━━━━━━━━━━━━━━\u001b[0m\u001b[37m\u001b[0m \u001b[1m64s\u001b[0m 1ms/step - accuracy: 0.8636 - loss: 0.3921\n",
      "Epoch 3/10\n",
      "\u001b[1m60000/60000\u001b[0m \u001b[32m━━━━━━━━━━━━━━━━━━━━\u001b[0m\u001b[37m\u001b[0m \u001b[1m59s\u001b[0m 982us/step - accuracy: 0.8663 - loss: 0.3820\n",
      "Epoch 4/10\n",
      "\u001b[1m60000/60000\u001b[0m \u001b[32m━━━━━━━━━━━━━━━━━━━━\u001b[0m\u001b[37m\u001b[0m \u001b[1m58s\u001b[0m 972us/step - accuracy: 0.8715 - loss: 0.3754\n",
      "Epoch 5/10\n",
      "\u001b[1m60000/60000\u001b[0m \u001b[32m━━━━━━━━━━━━━━━━━━━━\u001b[0m\u001b[37m\u001b[0m \u001b[1m61s\u001b[0m 1ms/step - accuracy: 0.8768 - loss: 0.3634\n",
      "Epoch 6/10\n",
      "\u001b[1m60000/60000\u001b[0m \u001b[32m━━━━━━━━━━━━━━━━━━━━\u001b[0m\u001b[37m\u001b[0m \u001b[1m58s\u001b[0m 970us/step - accuracy: 0.8826 - loss: 0.3591\n",
      "Epoch 7/10\n",
      "\u001b[1m60000/60000\u001b[0m \u001b[32m━━━━━━━━━━━━━━━━━━━━\u001b[0m\u001b[37m\u001b[0m \u001b[1m61s\u001b[0m 1ms/step - accuracy: 0.8820 - loss: 0.3571\n",
      "Epoch 8/10\n",
      "\u001b[1m60000/60000\u001b[0m \u001b[32m━━━━━━━━━━━━━━━━━━━━\u001b[0m\u001b[37m\u001b[0m \u001b[1m65s\u001b[0m 1ms/step - accuracy: 0.8806 - loss: 0.3565\n",
      "Epoch 9/10\n",
      "\u001b[1m60000/60000\u001b[0m \u001b[32m━━━━━━━━━━━━━━━━━━━━\u001b[0m\u001b[37m\u001b[0m \u001b[1m62s\u001b[0m 1ms/step - accuracy: 0.8821 - loss: 0.3542\n",
      "Epoch 10/10\n",
      "\u001b[1m60000/60000\u001b[0m \u001b[32m━━━━━━━━━━━━━━━━━━━━\u001b[0m\u001b[37m\u001b[0m \u001b[1m61s\u001b[0m 1ms/step - accuracy: 0.8856 - loss: 0.3493\n"
     ]
    },
    {
     "data": {
      "text/plain": [
       "<keras.src.callbacks.history.History at 0x1e84fe31a90>"
      ]
     },
     "execution_count": 40,
     "metadata": {},
     "output_type": "execute_result"
    }
   ],
   "source": [
    "# TRAINING THE MODEL\n",
    "\n",
    "model.fit(train_images, train_labels, epochs=10, batch_size=1) # passing data, labels, epochs and batches"
   ]
  },
  {
   "cell_type": "code",
   "execution_count": null,
   "metadata": {},
   "outputs": [
    {
     "name": "stdout",
     "output_type": "stream",
     "text": [
      "\u001b[1m10000/10000\u001b[0m \u001b[32m━━━━━━━━━━━━━━━━━━━━\u001b[0m\u001b[37m\u001b[0m \u001b[1m5s\u001b[0m 469us/step - accuracy: 0.8642 - loss: 0.5394\n",
      "Test accuracy:  0.8611000180244446\n"
     ]
    }
   ],
   "source": [
    "# EVALUATING THE MODEL\n",
    "# built in method from keras. The verbose 0 = silent, 1 = progress bar (keras documentation)\n",
    "test_loss, test_acc = model.evaluate(test_images, test_labels, batch_size=1, verbose=1)\n",
    "print('Test accuracy: ', test_acc)\n",
    "\n",
    "#The accuracy is lower than training model. This difference is reffered to as overfitting."
   ]
  },
  {
   "cell_type": "code",
   "execution_count": null,
   "metadata": {},
   "outputs": [
    {
     "name": "stdout",
     "output_type": "stream",
     "text": [
      "\u001b[1m10000/10000\u001b[0m \u001b[32m━━━━━━━━━━━━━━━━━━━━\u001b[0m\u001b[37m\u001b[0m \u001b[1m5s\u001b[0m 451us/step\n"
     ]
    }
   ],
   "source": [
    "# MAKING PREDICTIONS \n",
    "# just another keras method\n",
    "\n",
    "predictions = model.predict(test_images, batch_size=1) # the method return an array of predictions for each image"
   ]
  },
  {
   "cell_type": "code",
   "execution_count": 57,
   "metadata": {},
   "outputs": [
    {
     "data": {
      "image/png": "[encoded data removed]",
      "text/plain": [
       "<Figure size 640x480 with 1 Axes>"
      ]
     },
     "metadata": {},
     "output_type": "display_data"
    },
    {
     "name": "stdout",
     "output_type": "stream",
     "text": [
      "[0.0000000e+00 0.0000000e+00 0.0000000e+00 0.0000000e+00 0.0000000e+00\n",
      " 2.1564121e-05 0.0000000e+00 3.0232265e-03 6.6525921e-23 9.9695528e-01]\n",
      "9 = Ankle boot\n"
     ]
    }
   ],
   "source": [
    "plt.figure()\n",
    "plt.imshow(test_images[0])\n",
    "plt.show()\n",
    "\n",
    "print(predictions[0])\n",
    "print(np.argmax(predictions[0]), '=', class_names[np.argmax(predictions[0])])"
   ]
  },
  {
   "cell_type": "code",
   "execution_count": 97,
   "metadata": {},
   "outputs": [
    {
     "name": "stdout",
     "output_type": "stream",
     "text": [
      "Image number: 4\n"
     ]
    },
    {
     "data": {
      "image/png": "[encoded data removed]",
      "text/plain": [
       "<Figure size 640x480 with 1 Axes>"
      ]
     },
     "metadata": {},
     "output_type": "display_data"
    },
    {
     "ename": "ValueError",
     "evalue": "invalid literal for int() with base 10: ''",
     "output_type": "error",
     "traceback": [
      "\u001b[1;31m---------------------------------------------------------------------------\u001b[0m",
      "\u001b[1;31mValueError\u001b[0m                                Traceback (most recent call last)",
      "Cell \u001b[1;32mIn[97], line 16\u001b[0m\n\u001b[0;32m     14\u001b[0m \u001b[38;5;28;01mwhile\u001b[39;00m \u001b[38;5;28;01mTrue\u001b[39;00m:\n\u001b[0;32m     15\u001b[0m     n \u001b[38;5;241m=\u001b[39m \u001b[38;5;28minput\u001b[39m(\u001b[38;5;124m\"\u001b[39m\u001b[38;5;124mPick a number: \u001b[39m\u001b[38;5;124m\"\u001b[39m)\n\u001b[1;32m---> 16\u001b[0m     n \u001b[38;5;241m=\u001b[39m \u001b[38;5;28;43mint\u001b[39;49m\u001b[43m(\u001b[49m\u001b[43mn\u001b[49m\u001b[43m)\u001b[49m\n\u001b[0;32m     17\u001b[0m     \u001b[38;5;28;01mif\u001b[39;00m index \u001b[38;5;241m>\u001b[39m \u001b[38;5;241m0\u001b[39m:\n\u001b[0;32m     18\u001b[0m         clear_output(wait\u001b[38;5;241m=\u001b[39m\u001b[38;5;28;01mFalse\u001b[39;00m)\n",
      "\u001b[1;31mValueError\u001b[0m: invalid literal for int() with base 10: ''"
     ]
    }
   ],
   "source": [
    "def show_image(n):\n",
    "    print(\"Image number:\", n)\n",
    "    pred_class_num = np.argmax(predictions[n])\n",
    "    guess = class_names[pred_class_num]\n",
    "    label = class_names[test_labels[n]]\n",
    "    plt.figure()\n",
    "    plt.imshow(test_images[n])\n",
    "    plt.title(\"Guess: \" + guess)\n",
    "    plt.xlabel(\"Expected: \" + label)\n",
    "    plt.show()\n",
    "\n",
    "index = 0\n",
    "\n",
    "while True:\n",
    "    n = input(\"Pick a number: \")\n",
    "    n = int(n)\n",
    "    if index > 0:\n",
    "        clear_output(wait=False)\n",
    "    show_image(n)\n",
    "    index = index + 1"
   ]
  }
 ],
 "metadata": {
  "kernelspec": {
   "display_name": "Python 3",
   "language": "python",
   "name": "python3"
  },
  "language_info": {
   "codemirror_mode": {
    "name": "ipython",
    "version": 3
   },
   "file_extension": ".py",
   "mimetype": "text/x-python",
   "name": "python",
   "nbconvert_exporter": "python",
   "pygments_lexer": "ipython3",
   "version": "3.12.3"
  }
 },
 "nbformat": 4,
 "nbformat_minor": 2
}
